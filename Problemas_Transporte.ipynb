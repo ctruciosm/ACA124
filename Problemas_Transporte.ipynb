{
  "nbformat": 4,
  "nbformat_minor": 0,
  "metadata": {
    "colab": {
      "name": "Problemas_Transporte.ipynb",
      "provenance": [],
      "authorship_tag": "ABX9TyOgovR/7kYrm+9VdwGnnViM",
      "include_colab_link": true
    },
    "kernelspec": {
      "name": "ir",
      "display_name": "R"
    },
    "language_info": {
      "name": "R"
    }
  },
  "cells": [
    {
      "cell_type": "markdown",
      "metadata": {
        "id": "view-in-github",
        "colab_type": "text"
      },
      "source": [
        "<a href=\"https://colab.research.google.com/github/ctruciosm/ACA124/blob/main/Problemas_Transporte.ipynb\" target=\"_parent\"><img src=\"https://colab.research.google.com/assets/colab-badge.svg\" alt=\"Open In Colab\"/></a>"
      ]
    },
    {
      "cell_type": "markdown",
      "source": [
        "# Problemas de Transporte\n",
        "## By Prof. Carlos Trucíos\n",
        "\n",
        "\n"
      ],
      "metadata": {
        "id": "wf26XoQYF6Yn"
      }
    },
    {
      "cell_type": "markdown",
      "source": [
        "- O **problema de transporte** envolve determinar como transportar mercadorias de maneira otimizada.\n",
        "- O problema mais clássico consiste em determinar, dentre várias maneiras de distribuição de um produto, a que resultará no menor custo de transporte entre as fábricas e centros de distribuição.\n",
        "- Aplicações de problemas de transporte costumam exigir um número grande de restrições e variáveis, fazendo com que o método simplex tradicional precise de um tempo bastante elevado de procesamento.\n",
        "- O método que utizaremos aqui resolve o problema de uma forma mais eficiente do que o método simplex tradicional.\n"
      ],
      "metadata": {
        "id": "g36NdxW9HL93"
      }
    },
    {
      "cell_type": "markdown",
      "source": [
        "### Caso de uso [adaptado de Hillier e Lieberman (2006)]\n",
        "\n",
        "O principal produto da companhia \"Millennial Fit S.A.\" são ervilhas enlatadas. As ervilhas são preparadas em **três** fábricas de enlatados (F1, F2 e F3) e depois transportadas por caminhão para **quatro** centros de distribuição espalhado em toda _Wakanda_ (C1, C2, C3 e C4). \n",
        "\n",
        "Com a alta do preço do combustível, os custos com trannsporte tornaram-se uma despesa muito importante. Assim, a gerência da companhia está estudando como reduzir estes custos tanto quanto possível.\n",
        "\n",
        "Os custos de transforte (por carreta) das Fábricas aos Centros de Distribuição (CD), bem como a quantidade de carretas que devem sair de cada uma das fabricadas e a quantidade de carretas que devem chegar em cada um dos centros de distribuição estão disponíveis na Tabela a seguir.\n",
        "\n",
        "\n",
        "\n",
        "| Fábrica \\ CD: | C1  |   C2  |  C3  | C4   | Saida |\n",
        "|:-------------:|:---:|:-----:|:----:|:----:|:-----:|\n",
        "|  F1           | 464 | 513   |  654 | 867  |  75   |\n",
        "|  F2           | 352 | 416   |  690 | 791  |  125  |\n",
        "|  F3           | 995 | 682   |  388 | 685  |  100  |\n",
        "| **Destino:**  | 80  | 65    |  70  | 85   |**300**|\n",
        "\n",
        "\n",
        "Seja $x_{ij}$ o número de carretas a serem despachadas da fábrica $i$ ($F_i$) para o centro de distribuição $j$ ($C_j$).\n"
      ],
      "metadata": {
        "id": "PYp8m5qzNhsd"
      }
    },
    {
      "cell_type": "markdown",
      "source": [
        "Queremos **minimizar:** \n",
        "\n",
        "\\begin{align}\n",
        "Z = \\quad &  464 X_{11} + 513 X_{12} + 654 X_{13} + 867 X_{1,4} + \\\\\n",
        "& 352 X_{21} + 416 X_{22} + 690 X_{23} + 791 X_{24} + \\\\\n",
        "& 995 X_{31} + 682 X_{32} + 388 X_{33} + 655 X_{34},\n",
        "\\end{align} \n",
        "\n",
        "sujeito às restrições:\n",
        "\n",
        "- $X_{11} + X_{12} + X_{13} + X_{14} = 75$\n",
        "- $X_{21} + X_{22} + X_{23} + X_{24} = 125$\n",
        "- $X_{31} + X_{32} + X_{33} + X_{34} = 100$\n",
        "- $X_{11} + X_{21} + X_{31} = 80$\n",
        "- $X_{12} + X_{22} + X_{32} = 65$\n",
        "- $X_{13} + X_{23} + X_{33} = 70$\n",
        "- $X_{14} + X_{24} + X_{34} = 85$\n",
        "- $X_{ij} \\geq 0 $\n"
      ],
      "metadata": {
        "id": "jvtEI9GqZv_j"
      }
    },
    {
      "cell_type": "markdown",
      "source": [
        "Para resolver este problema, utilizaremos a função `lp.transport()` do pacote `lpSolve`."
      ],
      "metadata": {
        "id": "l19X6RJndsq1"
      }
    },
    {
      "cell_type": "code",
      "source": [
        "install.packages(\"lpSolve\")"
      ],
      "metadata": {
        "colab": {
          "base_uri": "https://localhost:8080/"
        },
        "id": "b7N6EUg_fXEd",
        "outputId": "ad636111-2c8f-4f39-b612-a980fa8b15f1"
      },
      "execution_count": 1,
      "outputs": [
        {
          "output_type": "stream",
          "name": "stderr",
          "text": [
            "Installing package into ‘/usr/local/lib/R/site-library’\n",
            "(as ‘lib’ is unspecified)\n",
            "\n"
          ]
        }
      ]
    },
    {
      "cell_type": "markdown",
      "source": [
        "**Importante:** Google Colab atribui uma máquina virtual nova e diferente cada vez que utilizamos o serviço. Por este motivo, precisamos instalar de novo o pacote (afinal, estamos em uma máquina \"nova\"). Se estiver utilizando o R/Rstudio instalado no seu computador, não precisa instalar o pacote de novo, pois já foi instalado na aula anterior."
      ],
      "metadata": {
        "id": "Zgte57U3fhnI"
      }
    },
    {
      "cell_type": "code",
      "source": [
        "library(lpSolve)\n",
        "matriz_custos = matrix(c(464, 352, 995, 513, 416, 682, 654, 690, 388, 867, 791, 685), ncol = 4)\n",
        "matriz_custos"
      ],
      "metadata": {
        "colab": {
          "base_uri": "https://localhost:8080/",
          "height": 146
        },
        "id": "symooH8-e727",
        "outputId": "439891a4-ecc8-443e-e461-00680e0a3950"
      },
      "execution_count": 2,
      "outputs": [
        {
          "output_type": "display_data",
          "data": {
            "text/html": [
              "<table class=\"dataframe\">\n",
              "<caption>A matrix: 3 × 4 of type dbl</caption>\n",
              "<tbody>\n",
              "\t<tr><td>464</td><td>513</td><td>654</td><td>867</td></tr>\n",
              "\t<tr><td>352</td><td>416</td><td>690</td><td>791</td></tr>\n",
              "\t<tr><td>995</td><td>682</td><td>388</td><td>685</td></tr>\n",
              "</tbody>\n",
              "</table>\n"
            ],
            "text/markdown": "\nA matrix: 3 × 4 of type dbl\n\n| 464 | 513 | 654 | 867 |\n| 352 | 416 | 690 | 791 |\n| 995 | 682 | 388 | 685 |\n\n",
            "text/latex": "A matrix: 3 × 4 of type dbl\n\\begin{tabular}{llll}\n\t 464 & 513 & 654 & 867\\\\\n\t 352 & 416 & 690 & 791\\\\\n\t 995 & 682 & 388 & 685\\\\\n\\end{tabular}\n",
            "text/plain": [
              "     [,1] [,2] [,3] [,4]\n",
              "[1,] 464  513  654  867 \n",
              "[2,] 352  416  690  791 \n",
              "[3,] 995  682  388  685 "
            ]
          },
          "metadata": {}
        }
      ]
    },
    {
      "cell_type": "code",
      "source": [
        "lado_direito_sinal = rep(\"=\", 3)\n",
        "lado_direito_valores = c(75, 125, 100)\n",
        "parte_abaixo_sinal = rep(\"=\", 4)\n",
        "parte_abaixo_valores = c(80, 65, 70, 85)"
      ],
      "metadata": {
        "id": "_3rDdN8kgUfC"
      },
      "execution_count": 3,
      "outputs": []
    },
    {
      "cell_type": "code",
      "source": [
        "lado_direito_sinal"
      ],
      "metadata": {
        "colab": {
          "base_uri": "https://localhost:8080/",
          "height": 34
        },
        "id": "_D8VIhdLgjCo",
        "outputId": "6caab0ec-9897-46cb-ef59-585535e4bb99"
      },
      "execution_count": 4,
      "outputs": [
        {
          "output_type": "display_data",
          "data": {
            "text/html": [
              "<style>\n",
              ".list-inline {list-style: none; margin:0; padding: 0}\n",
              ".list-inline>li {display: inline-block}\n",
              ".list-inline>li:not(:last-child)::after {content: \"\\00b7\"; padding: 0 .5ex}\n",
              "</style>\n",
              "<ol class=list-inline><li>'='</li><li>'='</li><li>'='</li></ol>\n"
            ],
            "text/markdown": "1. '='\n2. '='\n3. '='\n\n\n",
            "text/latex": "\\begin{enumerate*}\n\\item '='\n\\item '='\n\\item '='\n\\end{enumerate*}\n",
            "text/plain": [
              "[1] \"=\" \"=\" \"=\""
            ]
          },
          "metadata": {}
        }
      ]
    },
    {
      "cell_type": "code",
      "source": [
        "lado_direito_valores"
      ],
      "metadata": {
        "colab": {
          "base_uri": "https://localhost:8080/",
          "height": 34
        },
        "id": "coDzOI3Pgk4R",
        "outputId": "4a60b46b-e52e-4eb8-986a-91788ddce571"
      },
      "execution_count": 5,
      "outputs": [
        {
          "output_type": "display_data",
          "data": {
            "text/html": [
              "<style>\n",
              ".list-inline {list-style: none; margin:0; padding: 0}\n",
              ".list-inline>li {display: inline-block}\n",
              ".list-inline>li:not(:last-child)::after {content: \"\\00b7\"; padding: 0 .5ex}\n",
              "</style>\n",
              "<ol class=list-inline><li>75</li><li>125</li><li>100</li></ol>\n"
            ],
            "text/markdown": "1. 75\n2. 125\n3. 100\n\n\n",
            "text/latex": "\\begin{enumerate*}\n\\item 75\n\\item 125\n\\item 100\n\\end{enumerate*}\n",
            "text/plain": [
              "[1]  75 125 100"
            ]
          },
          "metadata": {}
        }
      ]
    },
    {
      "cell_type": "code",
      "source": [
        "parte_abaixo_sinal"
      ],
      "metadata": {
        "colab": {
          "base_uri": "https://localhost:8080/",
          "height": 34
        },
        "id": "6IKKFvJRgmnx",
        "outputId": "bee8865e-7b67-4fc8-d13a-f8fb2b0486e3"
      },
      "execution_count": 6,
      "outputs": [
        {
          "output_type": "display_data",
          "data": {
            "text/html": [
              "<style>\n",
              ".list-inline {list-style: none; margin:0; padding: 0}\n",
              ".list-inline>li {display: inline-block}\n",
              ".list-inline>li:not(:last-child)::after {content: \"\\00b7\"; padding: 0 .5ex}\n",
              "</style>\n",
              "<ol class=list-inline><li>'='</li><li>'='</li><li>'='</li><li>'='</li></ol>\n"
            ],
            "text/markdown": "1. '='\n2. '='\n3. '='\n4. '='\n\n\n",
            "text/latex": "\\begin{enumerate*}\n\\item '='\n\\item '='\n\\item '='\n\\item '='\n\\end{enumerate*}\n",
            "text/plain": [
              "[1] \"=\" \"=\" \"=\" \"=\""
            ]
          },
          "metadata": {}
        }
      ]
    },
    {
      "cell_type": "code",
      "source": [
        "parte_abaixo_valores"
      ],
      "metadata": {
        "colab": {
          "base_uri": "https://localhost:8080/",
          "height": 34
        },
        "id": "aI1mAErBhKRg",
        "outputId": "81bd5a14-2c6a-4b37-b621-553074de8b75"
      },
      "execution_count": 7,
      "outputs": [
        {
          "output_type": "display_data",
          "data": {
            "text/html": [
              "<style>\n",
              ".list-inline {list-style: none; margin:0; padding: 0}\n",
              ".list-inline>li {display: inline-block}\n",
              ".list-inline>li:not(:last-child)::after {content: \"\\00b7\"; padding: 0 .5ex}\n",
              "</style>\n",
              "<ol class=list-inline><li>80</li><li>65</li><li>70</li><li>85</li></ol>\n"
            ],
            "text/markdown": "1. 80\n2. 65\n3. 70\n4. 85\n\n\n",
            "text/latex": "\\begin{enumerate*}\n\\item 80\n\\item 65\n\\item 70\n\\item 85\n\\end{enumerate*}\n",
            "text/plain": [
              "[1] 80 65 70 85"
            ]
          },
          "metadata": {}
        }
      ]
    },
    {
      "cell_type": "code",
      "source": [
        "resultados_prob_transporte = lp.transport(matriz_custos, \"min\", \n",
        "row.signs = lado_direito_sinal, row.rhs = lado_direito_valores, \n",
        "col.signs = parte_abaixo_sinal, col.rhs = parte_abaixo_valores) "
      ],
      "metadata": {
        "id": "4e_EcxudhL71"
      },
      "execution_count": 8,
      "outputs": []
    },
    {
      "cell_type": "code",
      "source": [
        "resultados_prob_transporte$solution"
      ],
      "metadata": {
        "colab": {
          "base_uri": "https://localhost:8080/",
          "height": 146
        },
        "id": "6W_fxmTohuqb",
        "outputId": "e53f02f2-6f77-40be-fd16-68cb30f30c55"
      },
      "execution_count": 9,
      "outputs": [
        {
          "output_type": "display_data",
          "data": {
            "text/html": [
              "<table class=\"dataframe\">\n",
              "<caption>A matrix: 3 × 4 of type dbl</caption>\n",
              "<tbody>\n",
              "\t<tr><td> 0</td><td>20</td><td> 0</td><td>55</td></tr>\n",
              "\t<tr><td>80</td><td>45</td><td> 0</td><td> 0</td></tr>\n",
              "\t<tr><td> 0</td><td> 0</td><td>70</td><td>30</td></tr>\n",
              "</tbody>\n",
              "</table>\n"
            ],
            "text/markdown": "\nA matrix: 3 × 4 of type dbl\n\n|  0 | 20 |  0 | 55 |\n| 80 | 45 |  0 |  0 |\n|  0 |  0 | 70 | 30 |\n\n",
            "text/latex": "A matrix: 3 × 4 of type dbl\n\\begin{tabular}{llll}\n\t  0 & 20 &  0 & 55\\\\\n\t 80 & 45 &  0 &  0\\\\\n\t  0 &  0 & 70 & 30\\\\\n\\end{tabular}\n",
            "text/plain": [
              "     [,1] [,2] [,3] [,4]\n",
              "[1,]  0   20    0   55  \n",
              "[2,] 80   45    0    0  \n",
              "[3,]  0    0   70   30  "
            ]
          },
          "metadata": {}
        }
      ]
    },
    {
      "cell_type": "code",
      "source": [
        "resultados_prob_transporte"
      ],
      "metadata": {
        "colab": {
          "base_uri": "https://localhost:8080/",
          "height": 35
        },
        "id": "YFpaQUi5h99t",
        "outputId": "cf257ec3-574c-4e83-cbcf-14c8f34f2365"
      },
      "execution_count": 10,
      "outputs": [
        {
          "output_type": "display_data",
          "data": {
            "text/plain": [
              "Success: the objective function is 152535 "
            ]
          },
          "metadata": {}
        }
      ]
    },
    {
      "cell_type": "markdown",
      "source": [
        "> Em linhas genéricas, **o problema de transporte refere-se a distribuir qualquer _commodity_ de um grupo de lugares de origem** (no exemplo, as fábricas) **a um grupo de lugares de destino** (no exemplo, os centros de distribuição) **de forma a minimizar o custo total dessa distribuição.**"
      ],
      "metadata": {
        "id": "-cvtx0Ksi-XG"
      }
    },
    {
      "cell_type": "markdown",
      "source": [
        "Assim como no método simplex tradicional, o modelo do problema de transporte assume o seguinte:\n",
        "\n",
        "- **Hipótese das exigências:** cada \"origem\" tem uma **oferta fixa** de unidades que tem que ser distribuidas aos \"destinos\" (denotadas por $s_i$, $i = 1, \\cdots, m$). Por outro lado, cada \"destino\" tem uma **demanda fixa** por unidades que tem que ser recebidas das \"origens\" (denotadas por $d_j$, $j = 1, \\cdots, n$)."
      ],
      "metadata": {
        "id": "Pwk6CfS4j1bb"
      }
    },
    {
      "cell_type": "markdown",
      "source": [
        "O problema de transporte terá soluções viáveis se e somente se $$\\displaystyle \\sum_{i = 1}^m s_i = \\sum_{j = 1}^n d_j$$"
      ],
      "metadata": {
        "id": "2RXDgjFLlK3G"
      }
    },
    {
      "cell_type": "markdown",
      "source": [
        "> **Observação:** algumas vezes, as ofertas/demandas representam quantidades máximas (e não quantidades fixas). Esses casos não se enquadram completamente no problema de transporte pois violan a **hipóteses das exigências**. Contudo, é possível reformular o problema  de modo que atendam o modelo.  No caso da função `lp.transport()`, note que `=` pode ser substituido por, por exemplo, `<=` sem maiores preocupações."
      ],
      "metadata": {
        "id": "UYZVw38CmZS4"
      }
    },
    {
      "cell_type": "markdown",
      "source": [
        "- **Hipótese do custo:** o custo de distribuição de unidades de qualquer **origem** para qualquer **destino** é diretamente proporcional ao número de unidades distribuidas. Ou seja, esse custo é o _custo unitário_ da distribuição multiplicado pelo _número de unidades distribuidas_."
      ],
      "metadata": {
        "id": "azDpiXsPntBT"
      }
    },
    {
      "cell_type": "markdown",
      "source": [
        "**Propriedade das soluções inteiras:** Para problemas de transporte em que todos os $s_i$ e $d_j$ são valores inteiros, as soluções básicas viáveis (incluindo a solução ótima) também são valores inteiros.\n"
      ],
      "metadata": {
        "id": "DT1HOpBCqbEl"
      }
    },
    {
      "cell_type": "markdown",
      "source": [
        "> O problema de transporte vá além de problemas meramente relacinados \"fisicamente\" com transportes. De fato, **qualquer problema (que envolva transporte ou não) se ajusta a um problema de transporte se ele pode ser descrito completamente em termos de uma Tabela como a do caso de estudo (onde os únicos dados necessários são as ofertas, demandas e custos unitários) que satisfaça a hipóteses das exigências e a hipótese dos custos.** "
      ],
      "metadata": {
        "id": "IOZWo4yerI-n"
      }
    },
    {
      "cell_type": "markdown",
      "source": [
        "### Exemplo: [adaptado de Lachtermacher (2014) ]\n",
        "\n",
        "Bicicletas \"El Garotinho\" Ltda é uma empresa fabricante de bicicletas que possui **três** fábricas localizadas em RJ, SP e BH. A produção da empresa deve ser entregue em Goiania, Salvador e Manaus. Os custos de transporte unitários, a capacidade produtiva das fábricas e a demanda dos centros consumidores (CC) são apresentados na seguinte Tabela.\n",
        "\n",
        "\n",
        "| Fábrica \\ CC: | Goiania  |   Salvador  |  Manaus  | Capacidade |\n",
        "|:-------------:|:--------:|:-----------:|:--------:|:----------:|\n",
        "|  RJ           | 25       | 20          |  30      | 2000       |\n",
        "|  SP           | 30       | 25          |  25      | 3000       |\n",
        "|  BH           | 20       | 15          |  23      | 1500       |\n",
        "| **Demanda:**  | 2000     | 2000        |  1000    |            |"
      ],
      "metadata": {
        "id": "avhaWHJSsEjt"
      }
    },
    {
      "cell_type": "markdown",
      "source": [
        "Note que a capacidade de produção **não indica** que as fábricas de RJ, SP e BH devam producir exatamente 2000, 3000 e 1500 unidades, respectivamente (observe que se todas as fábricas produzirem a capacidade máxima, este número seria maior do que a demanda das três cidades).\n",
        "\n",
        "Assim, reescrevendo a Tabela de forma mais explícita:\n",
        "\n",
        "| Fábrica \\ CC: | Goiania  |   Salvador  |  Manaus  | Capacidade |\n",
        "|:-------------:|:--------:|:-----------:|:--------:|:----------:|\n",
        "|  RJ           | 25       | 20          |  30      | $\\leq$ 2000|\n",
        "|  SP           | 30       | 25          |  25      | $\\leq$ 3000|\n",
        "|  BH           | 20       | 15          |  23      | $\\leq$ 1500|\n",
        "| **Demanda:**  | = 2000   | = 2000      |  = 1000  |            |\n",
        "\n",
        "Não entraremos em detalhes de como fazer isto manualmente, mas utilizaremos a função `lp.transport()` para encontrar a solução ótima."
      ],
      "metadata": {
        "id": "hYYacWuWvIqM"
      }
    },
    {
      "cell_type": "markdown",
      "source": [
        ""
      ],
      "metadata": {
        "id": "EFhM7AOfwIez"
      }
    },
    {
      "cell_type": "code",
      "source": [
        "matriz_custos = matrix(c(25, 30, 20, 20, 25, 15, 30, 25, 23), ncol = 3)\n",
        "s_sinal = rep(\"<=\", 3)  # lembre-se que s é a notação que utilizamos para os lados direitos\n",
        "s_valores = c(2000, 3000, 1500)\n",
        "d_sinal = rep(\"=\", 3)   # lembre-se que d é a notação que utilizamos para a parte de baixo\n",
        "d_valores = c(2000, 2000, 1000)"
      ],
      "metadata": {
        "id": "6tWE8V-OwQQh"
      },
      "execution_count": 11,
      "outputs": []
    },
    {
      "cell_type": "code",
      "source": [
        "matriz_custos"
      ],
      "metadata": {
        "colab": {
          "base_uri": "https://localhost:8080/",
          "height": 146
        },
        "id": "58czYaTlwsye",
        "outputId": "b47c5490-48d1-4b94-9674-716a8556ec87"
      },
      "execution_count": 12,
      "outputs": [
        {
          "output_type": "display_data",
          "data": {
            "text/html": [
              "<table class=\"dataframe\">\n",
              "<caption>A matrix: 3 × 3 of type dbl</caption>\n",
              "<tbody>\n",
              "\t<tr><td>25</td><td>20</td><td>30</td></tr>\n",
              "\t<tr><td>30</td><td>25</td><td>25</td></tr>\n",
              "\t<tr><td>20</td><td>15</td><td>23</td></tr>\n",
              "</tbody>\n",
              "</table>\n"
            ],
            "text/markdown": "\nA matrix: 3 × 3 of type dbl\n\n| 25 | 20 | 30 |\n| 30 | 25 | 25 |\n| 20 | 15 | 23 |\n\n",
            "text/latex": "A matrix: 3 × 3 of type dbl\n\\begin{tabular}{lll}\n\t 25 & 20 & 30\\\\\n\t 30 & 25 & 25\\\\\n\t 20 & 15 & 23\\\\\n\\end{tabular}\n",
            "text/plain": [
              "     [,1] [,2] [,3]\n",
              "[1,] 25   20   30  \n",
              "[2,] 30   25   25  \n",
              "[3,] 20   15   23  "
            ]
          },
          "metadata": {}
        }
      ]
    },
    {
      "cell_type": "code",
      "source": [
        "resultados_exemplo = lp.transport(matriz_custos, \"min\", \n",
        "row.signs = s_sinal, row.rhs = s_valores, \n",
        "col.signs = d_sinal, col.rhs = d_valores) "
      ],
      "metadata": {
        "id": "XEY4JxYCwwQh"
      },
      "execution_count": 13,
      "outputs": []
    },
    {
      "cell_type": "code",
      "source": [
        "resultados_exemplo$solution"
      ],
      "metadata": {
        "colab": {
          "base_uri": "https://localhost:8080/",
          "height": 146
        },
        "id": "8xyxv2opw9JF",
        "outputId": "1225710e-aadd-4904-e746-1838335426a9"
      },
      "execution_count": 14,
      "outputs": [
        {
          "output_type": "display_data",
          "data": {
            "text/html": [
              "<table class=\"dataframe\">\n",
              "<caption>A matrix: 3 × 3 of type dbl</caption>\n",
              "<tbody>\n",
              "\t<tr><td> 500</td><td>1500</td><td>   0</td></tr>\n",
              "\t<tr><td>   0</td><td> 500</td><td>1000</td></tr>\n",
              "\t<tr><td>1500</td><td>   0</td><td>   0</td></tr>\n",
              "</tbody>\n",
              "</table>\n"
            ],
            "text/markdown": "\nA matrix: 3 × 3 of type dbl\n\n|  500 | 1500 |    0 |\n|    0 |  500 | 1000 |\n| 1500 |    0 |    0 |\n\n",
            "text/latex": "A matrix: 3 × 3 of type dbl\n\\begin{tabular}{lll}\n\t  500 & 1500 &    0\\\\\n\t    0 &  500 & 1000\\\\\n\t 1500 &    0 &    0\\\\\n\\end{tabular}\n",
            "text/plain": [
              "     [,1] [,2] [,3]\n",
              "[1,]  500 1500    0\n",
              "[2,]    0  500 1000\n",
              "[3,] 1500    0    0"
            ]
          },
          "metadata": {}
        }
      ]
    },
    {
      "cell_type": "code",
      "source": [
        "resultados_exemplo"
      ],
      "metadata": {
        "colab": {
          "base_uri": "https://localhost:8080/",
          "height": 35
        },
        "id": "qIELrkRSxQDY",
        "outputId": "4eae8c81-4af6-4902-b18f-4dc45fa7ece9"
      },
      "execution_count": 15,
      "outputs": [
        {
          "output_type": "display_data",
          "data": {
            "text/plain": [
              "Success: the objective function is 110000 "
            ]
          },
          "metadata": {}
        }
      ]
    }
  ]
}
