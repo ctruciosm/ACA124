{
  "nbformat": 4,
  "nbformat_minor": 0,
  "metadata": {
    "colab": {
      "name": "Problema_Arvore_Exp_Min.ipynb",
      "provenance": [],
      "authorship_tag": "ABX9TyPg5o/mNZxpdRnb+rTWDPXJ",
      "include_colab_link": true
    },
    "kernelspec": {
      "name": "ir",
      "display_name": "R"
    },
    "language_info": {
      "name": "R"
    }
  },
  "cells": [
    {
      "cell_type": "markdown",
      "metadata": {
        "id": "view-in-github",
        "colab_type": "text"
      },
      "source": [
        "<a href=\"https://colab.research.google.com/github/ctruciosm/ACA124/blob/main/Problema_Arvore_Exp_Min.ipynb\" target=\"_parent\"><img src=\"https://colab.research.google.com/assets/colab-badge.svg\" alt=\"Open In Colab\"/></a>"
      ]
    },
    {
      "cell_type": "markdown",
      "source": [
        "# O Problema da Árvore de Expansão Mínima\n",
        "## By Prof. Carlos Trucios\n",
        "\n",
        "## Introdução\n",
        "\n",
        "Considere uma rede conectada com $n$ nós em que todos os arcos foram eliminados. \n",
        "\n",
        "\n",
        "![](https://raw.githubusercontent.com/ctruciosm/ACA124/main/MST.png)\n",
        "\n",
        "\n",
        "> Lembrando: uma **árvore** é uma rede conectada (ou seja, existe uma cadeia conectando cada par de nós) que não contem ciclos (uma cadeia conectando um nó com ele mesmo). \n",
        "\n",
        "\n",
        "\n",
        "Uma **árvore** pode ser construida adicionando-se um arco por vez em uma certa direção. O primeiro arco pode ir para qualquer lugar para conectar algum par de nós. A partir daí, cada arco novo deve estar entre um nó que já esteja conectado a outros nós e um novo nó não previamente conectado a qualquer nó. Isto garante que o número de nós conectados seja igual ao número de arcos +1 e ao mesmo tempo impede a criação de ciclos na rede.\n",
        "\n",
        "\n",
        "\n",
        "\n",
        "Assim que o $(n-1)-$éssimo arco for adicionado, o processo para, pois a árvore resultante conecta todos os $n$ nós. Esta árvore é chamada **árvore de expansão** (_i.e._ uma rede conectada de todos os $n$ nós que não contem ciclos).\n",
        "\n",
        "\n",
        "A maneira de exemplo, veja que apenas um dos casos abaixo é uma árvore de expansão\n",
        "\n",
        "\n",
        "![](https://raw.githubusercontent.com/ctruciosm/ACA124/main/MST2.png)\n",
        "\n",
        "\n",
        "\n",
        "\n",
        "\n"
      ],
      "metadata": {
        "id": "9p5r852wY2HX"
      }
    },
    {
      "cell_type": "markdown",
      "source": [
        "## O problema da árvore de expansão mínima\n",
        "\n",
        "Imagine agora um problema em que:\n",
        "\n",
        "- São fornecidos os nós de uma rede mas **não** as ligações.\n",
        "- São fornecidas as **potenciais ligações**, bem como o comprimento (distância, custo, tempo) para cada uma delas.\n",
        "- Desejamos desenhar a rede inserindo ligações suficientes para satisfazer à necessidade de que haja um caminho entre cada par de nós.\n",
        "- O objetivo é satisfazer essa necessidade de maneira a minimizar o comprimento total das ligações inseridas na rede.\n",
        "\n"
      ],
      "metadata": {
        "id": "vwSUvjo_h775"
      }
    },
    {
      "cell_type": "markdown",
      "source": [
        "## Algoritmo\n",
        "\n",
        "1. Selecione qualquer nó arbitrariamente e depois o conecte (isto é, acrescente uma ligação) ao nó distinto mais próximo.\n",
        "2. Identifique o nó sem conexão que esteja mais próximo a um nó conectado e, em seguida, conecte esses dois nós (isto é, acrescente uma ligação entre eles).\n",
        "3. Repita o passo 2 até que todos os nós tenham sido conectados.\n",
        "\n",
        "> Em caso de empates pode se escolher a ligação de forma arbitrária."
      ],
      "metadata": {
        "id": "8x5GJDshrApt"
      }
    },
    {
      "cell_type": "markdown",
      "source": [
        "## Caso de estudo\n",
        "\n",
        "Na Figura abaixo, cada nó representa um posto e as (possíveis) ligações representam vias nas quais as linhas telefônicas devem ser instaladas a fim de conectar todos os postos. O objetivo é conectar todos os postos com um comprimento total mínimo de linha.\n",
        "\n",
        "![](https://raw.githubusercontent.com/ctruciosm/ACA124/main/MST3.png)"
      ],
      "metadata": {
        "id": "H-BifswFr_lu"
      }
    },
    {
      "cell_type": "markdown",
      "source": [
        "- Escolhemo o nó \"O\" (arbitrariamente)\n",
        "- O nó mais próximo é o nó \"A\"\n",
        "- Considerando o nós \"O\" e \"A\" buscamos o nó mais próximo (que é o nó \"B\")"
      ],
      "metadata": {
        "id": "8A9WxLBPjY6B"
      }
    },
    {
      "cell_type": "markdown",
      "source": [
        "![](https://raw.githubusercontent.com/ctruciosm/ACA124/main/MST4.png)\n",
        "\n",
        "- Considerando os nós \"O\", \"A\" e \"B\", buscamos o nó mais próximo (o nó \"C\").\n",
        "- Considernado os nós \"O\", \"A\", \"B\" e \"C\", buscamos o nó mais próximo (lembre-se, não podemos formar um ciclo!). O nó mais próximo é o nó \"E\".\n"
      ],
      "metadata": {
        "id": "M7ggKa56k1iX"
      }
    },
    {
      "cell_type": "markdown",
      "source": [
        "![](https://raw.githubusercontent.com/ctruciosm/ACA124/main/MST5.png)\n",
        "\n",
        "\n",
        "- O seguinte nó mais próximo é o nó \"D\". \n",
        "- Por último, temos o nó \"T\". "
      ],
      "metadata": {
        "id": "fdvT_Mntlm2R"
      }
    },
    {
      "cell_type": "markdown",
      "source": [
        "![](https://raw.githubusercontent.com/ctruciosm/ACA124/main/MST6.png)\n",
        "\n",
        "> Agora todos os nós estão conectados! (e o comprimento total das ligações é 14)\n",
        "\n",
        "## R"
      ],
      "metadata": {
        "id": "p3rCRH8em61I"
      }
    },
    {
      "cell_type": "code",
      "source": [
        "install.packages(\"igraph\")"
      ],
      "metadata": {
        "colab": {
          "base_uri": "https://localhost:8080/"
        },
        "id": "HTYpmxSqnlp6",
        "outputId": "8efafe0f-441a-4445-a3e0-d9c109fb0c5c"
      },
      "execution_count": 1,
      "outputs": [
        {
          "output_type": "stream",
          "name": "stderr",
          "text": [
            "Installing package into ‘/usr/local/lib/R/site-library’\n",
            "(as ‘lib’ is unspecified)\n",
            "\n"
          ]
        }
      ]
    },
    {
      "cell_type": "code",
      "source": [
        "library(igraph)"
      ],
      "metadata": {
        "colab": {
          "base_uri": "https://localhost:8080/"
        },
        "id": "MxHhA0_un0dS",
        "outputId": "4e00ce2b-5461-4450-dd37-233e57bc3487"
      },
      "execution_count": 2,
      "outputs": [
        {
          "output_type": "stream",
          "name": "stderr",
          "text": [
            "\n",
            "Attaching package: ‘igraph’\n",
            "\n",
            "\n",
            "The following objects are masked from ‘package:stats’:\n",
            "\n",
            "    decompose, spectrum\n",
            "\n",
            "\n",
            "The following object is masked from ‘package:base’:\n",
            "\n",
            "    union\n",
            "\n",
            "\n"
          ]
        }
      ]
    },
    {
      "cell_type": "code",
      "source": [
        "E = rbind(c(\"O\", \"A\", 2),\n",
        "          c(\"O\", \"B\", 5),\n",
        "          c(\"O\", \"C\", 4),\n",
        "          c(\"A\", \"B\", 2),\n",
        "          c(\"C\", \"B\", 1),\n",
        "          c(\"A\", \"D\", 7),\n",
        "          c(\"B\", \"D\", 4),\n",
        "          c(\"B\", \"E\", 3),\n",
        "          c(\"C\", \"E\", 4),\n",
        "          c(\"E\", \"D\", 1),\n",
        "          c(\"E\", \"T\", 7),\n",
        "          c(\"D\", \"T\", 5))\n",
        "colnames(E) = c(\"No1\", \"No2\", \"weight\")\n",
        "rede = as.data.frame(E)\n",
        "rede"
      ],
      "metadata": {
        "colab": {
          "base_uri": "https://localhost:8080/",
          "height": 475
        },
        "id": "TMyIP7H7pAcJ",
        "outputId": "fcc606c7-d4b6-44e5-fc94-033cb744dc60"
      },
      "execution_count": 3,
      "outputs": [
        {
          "output_type": "display_data",
          "data": {
            "text/html": [
              "<table class=\"dataframe\">\n",
              "<caption>A data.frame: 12 × 3</caption>\n",
              "<thead>\n",
              "\t<tr><th scope=col>No1</th><th scope=col>No2</th><th scope=col>weight</th></tr>\n",
              "\t<tr><th scope=col>&lt;chr&gt;</th><th scope=col>&lt;chr&gt;</th><th scope=col>&lt;chr&gt;</th></tr>\n",
              "</thead>\n",
              "<tbody>\n",
              "\t<tr><td>O</td><td>A</td><td>2</td></tr>\n",
              "\t<tr><td>O</td><td>B</td><td>5</td></tr>\n",
              "\t<tr><td>O</td><td>C</td><td>4</td></tr>\n",
              "\t<tr><td>A</td><td>B</td><td>2</td></tr>\n",
              "\t<tr><td>C</td><td>B</td><td>1</td></tr>\n",
              "\t<tr><td>A</td><td>D</td><td>7</td></tr>\n",
              "\t<tr><td>B</td><td>D</td><td>4</td></tr>\n",
              "\t<tr><td>B</td><td>E</td><td>3</td></tr>\n",
              "\t<tr><td>C</td><td>E</td><td>4</td></tr>\n",
              "\t<tr><td>E</td><td>D</td><td>1</td></tr>\n",
              "\t<tr><td>E</td><td>T</td><td>7</td></tr>\n",
              "\t<tr><td>D</td><td>T</td><td>5</td></tr>\n",
              "</tbody>\n",
              "</table>\n"
            ],
            "text/markdown": "\nA data.frame: 12 × 3\n\n| No1 &lt;chr&gt; | No2 &lt;chr&gt; | weight &lt;chr&gt; |\n|---|---|---|\n| O | A | 2 |\n| O | B | 5 |\n| O | C | 4 |\n| A | B | 2 |\n| C | B | 1 |\n| A | D | 7 |\n| B | D | 4 |\n| B | E | 3 |\n| C | E | 4 |\n| E | D | 1 |\n| E | T | 7 |\n| D | T | 5 |\n\n",
            "text/latex": "A data.frame: 12 × 3\n\\begin{tabular}{lll}\n No1 & No2 & weight\\\\\n <chr> & <chr> & <chr>\\\\\n\\hline\n\t O & A & 2\\\\\n\t O & B & 5\\\\\n\t O & C & 4\\\\\n\t A & B & 2\\\\\n\t C & B & 1\\\\\n\t A & D & 7\\\\\n\t B & D & 4\\\\\n\t B & E & 3\\\\\n\t C & E & 4\\\\\n\t E & D & 1\\\\\n\t E & T & 7\\\\\n\t D & T & 5\\\\\n\\end{tabular}\n",
            "text/plain": [
              "   No1 No2 weight\n",
              "1  O   A   2     \n",
              "2  O   B   5     \n",
              "3  O   C   4     \n",
              "4  A   B   2     \n",
              "5  C   B   1     \n",
              "6  A   D   7     \n",
              "7  B   D   4     \n",
              "8  B   E   3     \n",
              "9  C   E   4     \n",
              "10 E   D   1     \n",
              "11 E   T   7     \n",
              "12 D   T   5     "
            ]
          },
          "metadata": {}
        }
      ]
    },
    {
      "cell_type": "code",
      "source": [
        "g = graph_from_data_frame(rede, directed = FALSE)\n",
        "g"
      ],
      "metadata": {
        "colab": {
          "base_uri": "https://localhost:8080/",
          "height": 90
        },
        "id": "0mCObdGUqgCt",
        "outputId": "a8be88a7-0334-43bc-db5b-6a28b15f316a"
      },
      "execution_count": 39,
      "outputs": [
        {
          "output_type": "display_data",
          "data": {
            "text/plain": [
              "IGRAPH ec11daf UNW- 7 12 -- \n",
              "+ attr: name (v/c), weight (e/c)\n",
              "+ edges from ec11daf (vertex names):\n",
              " [1] O--A O--B O--C A--B C--B A--D B--D B--E C--E E--D E--T D--T"
            ]
          },
          "metadata": {}
        }
      ]
    },
    {
      "cell_type": "code",
      "source": [
        "g_mst = mst(g)"
      ],
      "metadata": {
        "id": "ytXfLyXrqobR"
      },
      "execution_count": 40,
      "outputs": []
    },
    {
      "cell_type": "code",
      "source": [
        "plot(g_mst, edge.label = E(g_mst)$weight)"
      ],
      "metadata": {
        "colab": {
          "base_uri": "https://localhost:8080/",
          "height": 437
        },
        "id": "XI2dAsWpqwuh",
        "outputId": "e695268d-42d6-4014-8237-996674032f97"
      },
      "execution_count": 46,
      "outputs": [
        {
          "output_type": "display_data",
          "data": {
            "text/plain": [
              "Plot with title “”"
            ],
            "image/png": "[encoded data removed]"
          },
          "metadata": {
            "image/png": {
              "width": 420,
              "height": 420
            }
          }
        }
      ]
    },
    {
      "cell_type": "code",
      "source": [
        "sum(as.numeric(E(g_mst)$weight))"
      ],
      "metadata": {
        "colab": {
          "base_uri": "https://localhost:8080/",
          "height": 34
        },
        "id": "whEb-q9sjKN3",
        "outputId": "95ad3fe3-366f-4f50-cf83-1f2f30635ec4"
      },
      "execution_count": 48,
      "outputs": [
        {
          "output_type": "display_data",
          "data": {
            "text/html": [
              "14"
            ],
            "text/markdown": "14",
            "text/latex": "14",
            "text/plain": [
              "[1] 14"
            ]
          },
          "metadata": {}
        }
      ]
    },
    {
      "cell_type": "markdown",
      "source": [
        "## Exercício\n",
        "\n",
        "Encontre a árvore de expansão mínima na seguinte rede.\n",
        "\n",
        "![](https://raw.githubusercontent.com/ctruciosm/ACA124/main/MST_ex.png)\n",
        "\n",
        "(as ligações no gráfico são, na verdade, possíveis ligações e os números representam o cumprimento)."
      ],
      "metadata": {
        "id": "3LJAS3IqklDW"
      }
    }
  ]
}