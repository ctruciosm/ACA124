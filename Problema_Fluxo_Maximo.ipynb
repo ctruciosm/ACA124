{
  "nbformat": 4,
  "nbformat_minor": 0,
  "metadata": {
    "colab": {
      "name": "Problema_Fluxo_Maximo.ipynb",
      "provenance": [],
      "authorship_tag": "ABX9TyPsbrZ3RsRTGbMraruoLYVa",
      "include_colab_link": true
    },
    "kernelspec": {
      "name": "ir",
      "display_name": "R"
    },
    "language_info": {
      "name": "R"
    }
  },
  "cells": [
    {
      "cell_type": "markdown",
      "metadata": {
        "id": "view-in-github",
        "colab_type": "text"
      },
      "source": [
        "<a href=\"https://colab.research.google.com/github/ctruciosm/ACA124/blob/main/Problema_Fluxo_Maximo.ipynb\" target=\"_parent\"><img src=\"https://colab.research.google.com/assets/colab-badge.svg\" alt=\"Open In Colab\"/></a>"
      ]
    },
    {
      "cell_type": "markdown",
      "source": [
        "# Otimização de redes: O problema do fluxo máximo\n",
        "## By Prof. Carlos Trucíos"
      ],
      "metadata": {
        "id": "ocYYukUxcYC3"
      }
    },
    {
      "cell_type": "markdown",
      "source": [
        "## 1. Introdução à Teoria de Grafos\n",
        "\n",
        "Um **grafo** consiste num conjunto de pontos e retas conectando certos pares de pontos. Os pontos são chamados **nós** (_nodes_) e as retas são chamadas **arcos/ligações/ramificações/arestas** (_arcs_, _links_, _edges_, _branches_). Os arcos são identificados dando-se nomes aos nós em cada uma das extremidades.\n",
        "\n"
      ],
      "metadata": {
        "id": "-GSHSXL-dSj1"
      }
    },
    {
      "cell_type": "markdown",
      "source": [
        "![Figura 1: Exemplo de grafo.](http://163.10.22.82/OAS/estructuras_de_grafos/grafoConexo.1.png)"
      ],
      "metadata": {
        "id": "bpNbs5CDfUMd"
      }
    },
    {
      "cell_type": "markdown",
      "source": [
        "Por exemplo:\n",
        "\n",
        "- \"ag\" é o arco entre os nós \"a\" e \"g\".\n",
        "- \"ce\" é o arco entre os nós \"c\" e \"e\".\n",
        "- etc.\n",
        "\n",
        "\n",
        "\n",
        "\n",
        "Os arcos de um grafo podem revelar a direção do **fluxo** de um\n",
        "ponto para outro.\n",
        "\n",
        "\n",
        "Grafos são bastante utilizados para entender diversos problemas de programação linear. A seguinte Tabela, extraida de Hillier e Lieberman (2016), apresenta alguns exemplos:\n",
        "\n",
        "\n",
        "| Nós        | Arcos          | Fluxo     |\n",
        "|:----------:|:--------------:|:---------:|\n",
        "| Interseções | Vías          | Veículos  |\n",
        "| Aeroportos  | Rotas aéreas  | Aeronave  |\n",
        "| Estações de bombeamento | Tubulação | Fluidos |\n",
        "\n",
        "\n",
        "- Se o fluxo é apenas permitido em uma direção, o arco é dito **direcionado** (utilizamos uma seta para identificar a direção).\n",
        "- Se o fluxo é permitido em ambas as direções, o arco é dito **não-direcionado**. Arcos não direcionados são às vezes chamados de ligações.\n",
        "\n",
        "> Uma **rede** é um grafo com um fluxo de algum tipo nos seus arcos."
      ],
      "metadata": {
        "id": "bOOkLTobf7sU"
      }
    },
    {
      "cell_type": "markdown",
      "source": [
        "### 1.1 Outras terminologias\n",
        "\n",
        "- Uma rede formada apenas por arcos direcionados é chamada **rede direcionada**.\n",
        "- Uma rede formada apenas por ligações é chamada de **rede não-direcionada**\n",
        "- Uma **cadeia** (_chain_) entre os nós $i$ e $j$ é uma sequencia de arcos conectando esses dois nós. Por exemplo, uma **cadeia** conectando os nós \"a\" e \"e\" é a seguencia de arcos \"ag\", \"gc\" e \"ce\" (ou vice-versa)- Quando a direção da cadeia é especificada, é chamado de **caminho** (_path_).\n",
        "- Um **ciclo** (_cycle_) é uma cadeia conectando um nó com ele mesmo. Por exemplo, a cadeia \"ag\", \"gf\" e \"fa\" formam um ciclo.\n",
        "- Uma rede é dita **rede conectada** se existe uma cadeia conectando cada par de nós. Por exemplo, nosso grafo é conectado, mas não seria se tirássemos os arcos \"af\", \"be\", \"gc\", \"fb\", \"gc\" e \"bc\"\n",
        "- Uma rede conectada é chamado de **árvore** (_tree_) se não contém ciclos.\n",
        "- Um nó em uma rede é chamado de **origem** (_source_) se cada um dos seus arcos tem direção tal que o fluxo \"sai\" do nó.\n",
        "- Um nó em uma rede é chamado de **escoadouro** (_sink_) se cada um dos seus arcos tem direção tal que o fluxo \"entra\" no nó.\n",
        "- A **capacidade do arco** é a quantidade máxima de fluxo que pode ser transportado em um arco direcionado.\n",
        "- Um **nó de suprimento** tem a propriedade de que o fluxo saindo do nó excede o fluxo entrando no nó.\n",
        "- Um **nó de demanda** tem a propriedade de que o fluxo que entra no nó excede o fluxo que sai do nó.\n",
        "- Um **nó intermediário** (_transshipment_) satisfaz a conservação do fluxo, de modo que o fluxo que entra seja igual ao fluxo que sai.\n"
      ],
      "metadata": {
        "id": "2SY9jon9i5Wy"
      }
    },
    {
      "cell_type": "markdown",
      "source": [
        "## 1.2 Problema do Fluxo Máximo\n",
        "\n"
      ],
      "metadata": {
        "id": "e8Q4R8fUsMfL"
      }
    },
    {
      "cell_type": "markdown",
      "source": [
        "Consideremos uma **rede conectada** (_i.e._ uma rede em que existe uma cadeia conectando cada par de nós) com um único nó de **origem** e um único nó de **escoadouro**. Suponhamos que:\n",
        "\n",
        "- Para cada nó diferente do **origem** e **escoadouro** a **conservaçñao de fluxo** (_i.e._ o fluxo que entra é igual ao fluzo que sai) acontece.\n",
        "- A taxa de fluxo do arco \"ij\" (do nó $i$ ao nó $j$) é uma quantidade não negativa menor ou igual à capacidade do arco.\n",
        "\n",
        "> O **problema de fluxo máximo** consiste em maximizar a quantidade de fluxo de um ponto de origem para um ponto de destino (escoadouro), respeitando as restrições de capacidade de fluxo nos arcos.\n",
        "\n"
      ],
      "metadata": {
        "id": "5aVH_k7jWWIk"
      }
    },
    {
      "cell_type": "markdown",
      "source": [
        "Nas palavras do Lachtermacher (2007) \"*Estes problemas geralmente envolvem o fluxo de materiais como água, óleo, gás, energia através de uma rede de tubos ou cabos; porém, também podem representar o fluxo máximo de carros em uma malha rodoviária, de produtos em linhas de produção, e assim por diante.*\""
      ],
      "metadata": {
        "id": "_QtYpR6afehC"
      }
    },
    {
      "cell_type": "markdown",
      "source": [
        "### Caso de Estudo\n",
        "\n",
        "A \"BMZ Company\" é uma fábrica Europeia de carros de luxo e um dos seus principais mercados são os Estados Unidos. Os carros da BMZ tem-se tornado muito populares na California no último ano e, por isso, é muito importante que o centro de Los Angeles esteja sempre bem equipado com peças para conserto dos carros.\n",
        "\n",
        "A BMZ precisa executar um plano rapidamente para enviar a maior quantidade de peças da fábrica principal em \"Stuttgart\" na Alemanhã para \"Los Angeles\" na California no próximo mês.\n",
        "\n",
        "Por motivos de produção/sustentabilidade/logistica/etc, a capacidade de envio é limitada e segue a estrutura apresentada na seguinte Figura.\n"
      ],
      "metadata": {
        "id": "UwKXoTjWfvH2"
      }
    },
    {
      "cell_type": "markdown",
      "source": [
        "![BMZ](https://raw.githubusercontent.com/ctruciosm/ACA124/main/exemplo_maximal_flow.png)"
      ],
      "metadata": {
        "id": "KMwbD8KZknCt"
      }
    },
    {
      "cell_type": "markdown",
      "source": [
        "**Quantas unidades devem ser enviadas através de cada remessa, a fim de maximizar o total de unidades enviadas desde Stuttgar para Los Angeles?**"
      ],
      "metadata": {
        "id": "g886eYmOlVrt"
      }
    },
    {
      "cell_type": "markdown",
      "source": [
        "Para resolver este problema utilizaremos o pacote `igraph`."
      ],
      "metadata": {
        "id": "Ph-2kWGkvmx-"
      }
    },
    {
      "cell_type": "code",
      "source": [
        "install.packages(\"igraph\")"
      ],
      "metadata": {
        "id": "vFXtApdVvrqU"
      },
      "execution_count": null,
      "outputs": []
    },
    {
      "cell_type": "code",
      "source": [
        "library(igraph)"
      ],
      "metadata": {
        "colab": {
          "base_uri": "https://localhost:8080/"
        },
        "id": "cjxf6MngzOoF",
        "outputId": "12c41f4a-f2bc-47bd-b362-9ae5f1c4e042"
      },
      "execution_count": 2,
      "outputs": [
        {
          "output_type": "stream",
          "name": "stderr",
          "text": [
            "\n",
            "Attaching package: ‘igraph’\n",
            "\n",
            "\n",
            "The following objects are masked from ‘package:stats’:\n",
            "\n",
            "    decompose, spectrum\n",
            "\n",
            "\n",
            "The following object is masked from ‘package:base’:\n",
            "\n",
            "    union\n",
            "\n",
            "\n"
          ]
        }
      ]
    },
    {
      "cell_type": "code",
      "source": [
        "# Descrevemos o fluxo e as capacidades de cada arco\n",
        "E = rbind(c(\"ST\", \"RO\", 50), \n",
        "          c(\"ST\", \"BO\", 70), \n",
        "          c(\"ST\", \"LI\", 40), \n",
        "          c(\"RO\", \"NY\", 60), \n",
        "          c(\"BO\", \"NY\", 40), \n",
        "          c(\"BO\", \"NO\", 50), \n",
        "          c(\"LI\", \"NO\", 30), \n",
        "          c(\"NY\", \"LA\", 80), \n",
        "          c(\"NO\", \"LA\", 70))\n",
        "colnames(E) = c(\"From\", \"To\", \"capacity\") # \"capacity\" é o único nome que deve aparecer exatamente como escrito aqui\n",
        "rede = as.data.frame(E)\n",
        "rede"
      ],
      "metadata": {
        "colab": {
          "base_uri": "https://localhost:8080/",
          "height": 380
        },
        "id": "kc0_fCL__1cZ",
        "outputId": "8770e138-9ef0-4884-9bed-c0ab340b3b6a"
      },
      "execution_count": 3,
      "outputs": [
        {
          "output_type": "display_data",
          "data": {
            "text/html": [
              "<table class=\"dataframe\">\n",
              "<caption>A data.frame: 9 × 3</caption>\n",
              "<thead>\n",
              "\t<tr><th scope=col>From</th><th scope=col>To</th><th scope=col>capacity</th></tr>\n",
              "\t<tr><th scope=col>&lt;chr&gt;</th><th scope=col>&lt;chr&gt;</th><th scope=col>&lt;chr&gt;</th></tr>\n",
              "</thead>\n",
              "<tbody>\n",
              "\t<tr><td>ST</td><td>RO</td><td>50</td></tr>\n",
              "\t<tr><td>ST</td><td>BO</td><td>70</td></tr>\n",
              "\t<tr><td>ST</td><td>LI</td><td>40</td></tr>\n",
              "\t<tr><td>RO</td><td>NY</td><td>60</td></tr>\n",
              "\t<tr><td>BO</td><td>NY</td><td>40</td></tr>\n",
              "\t<tr><td>BO</td><td>NO</td><td>50</td></tr>\n",
              "\t<tr><td>LI</td><td>NO</td><td>30</td></tr>\n",
              "\t<tr><td>NY</td><td>LA</td><td>80</td></tr>\n",
              "\t<tr><td>NO</td><td>LA</td><td>70</td></tr>\n",
              "</tbody>\n",
              "</table>\n"
            ],
            "text/markdown": "\nA data.frame: 9 × 3\n\n| From &lt;chr&gt; | To &lt;chr&gt; | capacity &lt;chr&gt; |\n|---|---|---|\n| ST | RO | 50 |\n| ST | BO | 70 |\n| ST | LI | 40 |\n| RO | NY | 60 |\n| BO | NY | 40 |\n| BO | NO | 50 |\n| LI | NO | 30 |\n| NY | LA | 80 |\n| NO | LA | 70 |\n\n",
            "text/latex": "A data.frame: 9 × 3\n\\begin{tabular}{lll}\n From & To & capacity\\\\\n <chr> & <chr> & <chr>\\\\\n\\hline\n\t ST & RO & 50\\\\\n\t ST & BO & 70\\\\\n\t ST & LI & 40\\\\\n\t RO & NY & 60\\\\\n\t BO & NY & 40\\\\\n\t BO & NO & 50\\\\\n\t LI & NO & 30\\\\\n\t NY & LA & 80\\\\\n\t NO & LA & 70\\\\\n\\end{tabular}\n",
            "text/plain": [
              "  From To capacity\n",
              "1 ST   RO 50      \n",
              "2 ST   BO 70      \n",
              "3 ST   LI 40      \n",
              "4 RO   NY 60      \n",
              "5 BO   NY 40      \n",
              "6 BO   NO 50      \n",
              "7 LI   NO 30      \n",
              "8 NY   LA 80      \n",
              "9 NO   LA 70      "
            ]
          },
          "metadata": {}
        }
      ]
    },
    {
      "cell_type": "code",
      "source": [
        "# Fazemos o grafo\n",
        "g1 = graph_from_data_frame(rede)\n",
        "g1"
      ],
      "metadata": {
        "colab": {
          "base_uri": "https://localhost:8080/",
          "height": 90
        },
        "id": "sP2GrlrT_-_S",
        "outputId": "ccbc6513-5947-489f-afad-1fd1a3dc42cc"
      },
      "execution_count": 4,
      "outputs": [
        {
          "output_type": "display_data",
          "data": {
            "text/plain": [
              "IGRAPH 3f8b1bb DN-- 7 9 -- \n",
              "+ attr: name (v/c), capacity (e/c)\n",
              "+ edges from 3f8b1bb (vertex names):\n",
              "[1] ST->RO ST->BO ST->LI RO->NY BO->NY BO->NO LI->NO NY->LA NO->LA"
            ]
          },
          "metadata": {}
        }
      ]
    },
    {
      "cell_type": "code",
      "source": [
        "resultados = max_flow(g1, source = V(g1)[\"ST\"], target = V(g1)[\"LA\"])\n",
        "resultados"
      ],
      "metadata": {
        "colab": {
          "base_uri": "https://localhost:8080/",
          "height": 623
        },
        "id": "1Et4NxhIAETF",
        "outputId": "25f9429b-82c1-4020-ac44-f2a2d21c7139"
      },
      "execution_count": 5,
      "outputs": [
        {
          "output_type": "display_data",
          "data": {
            "text/plain": [
              "$value\n",
              "[1] 150\n",
              "\n",
              "$flow\n",
              "[1] 50 70 30 50 30 40 30 80 70\n",
              "\n",
              "$cut\n",
              "[1] 8 9\n",
              "\n",
              "$partition1\n",
              "+ 6/7 vertices, named, from 3f8b1bb:\n",
              "[1] ST RO BO LI NY NO\n",
              "\n",
              "$partition2\n",
              "+ 1/7 vertex, named, from 3f8b1bb:\n",
              "[1] LA\n",
              "\n",
              "$stats\n",
              "$stats$nopush\n",
              "[1] 8\n",
              "\n",
              "$stats$norelabel\n",
              "[1] 2\n",
              "\n",
              "$stats$nogap\n",
              "[1] 0\n",
              "\n",
              "$stats$nogapnodes\n",
              "[1] 0\n",
              "\n",
              "$stats$nobfs\n",
              "[1] 1\n",
              "\n"
            ]
          },
          "metadata": {}
        }
      ]
    },
    {
      "cell_type": "markdown",
      "source": [
        "A solução ótima pode ser vista através de `resultados$value` e `resultados$flow`."
      ],
      "metadata": {
        "id": "iEf_RznjAZTC"
      }
    },
    {
      "cell_type": "code",
      "source": [
        "resultados$value"
      ],
      "metadata": {
        "colab": {
          "base_uri": "https://localhost:8080/",
          "height": 34
        },
        "id": "HOnkKr75AlG5",
        "outputId": "a3ca0789-0627-4665-cb3d-b064734571c2"
      },
      "execution_count": 6,
      "outputs": [
        {
          "output_type": "display_data",
          "data": {
            "text/html": [
              "150"
            ],
            "text/markdown": "150",
            "text/latex": "150",
            "text/plain": [
              "[1] 150"
            ]
          },
          "metadata": {}
        }
      ]
    },
    {
      "cell_type": "code",
      "source": [
        "resultados$flow"
      ],
      "metadata": {
        "colab": {
          "base_uri": "https://localhost:8080/",
          "height": 34
        },
        "id": "z_l9KGvbAnIj",
        "outputId": "7890e722-9a76-467c-ab9c-3cfd73f8170a"
      },
      "execution_count": 7,
      "outputs": [
        {
          "output_type": "display_data",
          "data": {
            "text/html": [
              "<style>\n",
              ".list-inline {list-style: none; margin:0; padding: 0}\n",
              ".list-inline>li {display: inline-block}\n",
              ".list-inline>li:not(:last-child)::after {content: \"\\00b7\"; padding: 0 .5ex}\n",
              "</style>\n",
              "<ol class=list-inline><li>50</li><li>70</li><li>30</li><li>50</li><li>30</li><li>40</li><li>30</li><li>80</li><li>70</li></ol>\n"
            ],
            "text/markdown": "1. 50\n2. 70\n3. 30\n4. 50\n5. 30\n6. 40\n7. 30\n8. 80\n9. 70\n\n\n",
            "text/latex": "\\begin{enumerate*}\n\\item 50\n\\item 70\n\\item 30\n\\item 50\n\\item 30\n\\item 40\n\\item 30\n\\item 80\n\\item 70\n\\end{enumerate*}\n",
            "text/plain": [
              "[1] 50 70 30 50 30 40 30 80 70"
            ]
          },
          "metadata": {}
        }
      ]
    },
    {
      "cell_type": "code",
      "source": [
        "plot(g1, edge.label = resultados$flow)"
      ],
      "metadata": {
        "colab": {
          "base_uri": "https://localhost:8080/",
          "height": 437
        },
        "id": "Jz_IiisEApON",
        "outputId": "459eea81-8d95-4aa0-c4c6-ea4dc07c3bbc"
      },
      "execution_count": 8,
      "outputs": [
        {
          "output_type": "display_data",
          "data": {
            "text/plain": [
              "Plot with title “”"
            ],
            "image/png": "[encoded data removed]"
          },
          "metadata": {
            "image/png": {
              "width": 420,
              "height": 420
            }
          }
        }
      ]
    },
    {
      "cell_type": "markdown",
      "source": [
        "### Hipóteses\n",
        "\n",
        "Como em todos os casos vistos anteriormente, cada abordagem apresentada apresentan um conjunto de suposições. No caso do problema do fluxo máximo elas são:\n",
        "\n",
        "- Todo fluxo atrvés de uma rede direcionada e conectada origana-se em um nó **origem** em termina em um nó **escoadouro**.\n",
        "- Todos os nós restantes são nós **intermediários**.\n",
        "- O fluxo através de um arco é apenas perminito na direção indicada pela seta.\n",
        "- A quantidade máxima do fluxo do arco é dada pela **capacidade** daquele arco.\n",
        "- O objetivo é **maximizar** a quantitade total de fluxo da **origem** para o **escoadouro**."
      ],
      "metadata": {
        "id": "DPL68HedpSsE"
      }
    },
    {
      "cell_type": "markdown",
      "source": [
        "### Casos em que problem de fluxo máximo pode ser utilizado\n",
        "\n",
        "- Maximizar o fluxo de petróleo através de um sistema de tubulações.\n",
        "- Maximizar o fluxo de água através de um sustema de aquedutos.\n",
        "- Maximizar o fluxo de veículos através de uma rede de transporte.\n",
        "- etc"
      ],
      "metadata": {
        "id": "8qaKRjTrq6bf"
      }
    },
    {
      "cell_type": "markdown",
      "source": [
        "**Observação:** em algumas aplicações, o fluxo através da rede pode-se originar/terminar em mais de um nó. Este caso não se enquadra completamente no problema de fluxo máximo. Contudo, pode-se reformular o problema (origem/escoadouro fantasma) de forma que o problema de adapte ao problema de fluxo máximo"
      ],
      "metadata": {
        "id": "Zsxewwv7rlMu"
      }
    },
    {
      "cell_type": "markdown",
      "source": [
        "## Caso de Estudo 2\n",
        "\n",
        "Imagine o seguinte problema (com múltiples origens e escoadouros) descrito na Figura a seguir.\n",
        "\n",
        "![](https://raw.githubusercontent.com/ctruciosm/ACA124/main/exemplo_max_flow2.png)"
      ],
      "metadata": {
        "id": "w8vMnbOPsXvt"
      }
    },
    {
      "cell_type": "markdown",
      "source": [
        "A problema não se enquadra no **problema do fluxo máximo** pois tem múltiplos origens/escoadouros. Contudo, se utilizarmos origens/escoadouros fantasma podemos reescrever o problema em um problema de fluxo máximo."
      ],
      "metadata": {
        "id": "_5Tibr6o4vE0"
      }
    },
    {
      "cell_type": "markdown",
      "source": [
        "![](https://raw.githubusercontent.com/ctruciosm/ACA124/main/exemplo_max_flow3.png)"
      ],
      "metadata": {
        "id": "ed6DJRyN5BW7"
      }
    },
    {
      "cell_type": "code",
      "source": [
        "# Descrevemos o fluxo e as capacidades de cada arco\n",
        "rede = rbind(c(\"X\", \"A\", 70),\n",
        "             c(\"X\", \"B\", 50),\n",
        "             c(\"X\", \"C\", 60),\n",
        "             c(\"A\", \"D\", 70),\n",
        "             c(\"B\", \"E\", 20),\n",
        "             c(\"B\", \"F\", 30),\n",
        "             c(\"C\", \"F\", 40),\n",
        "             c(\"C\", \"G\", 20),\n",
        "             c(\"D\", \"H\", 50),\n",
        "             c(\"E\", \"H\", 20),\n",
        "             c(\"F\", \"H\", 20),\n",
        "             c(\"F\", \"I\", 45),\n",
        "             c(\"G\", \"I\", 25),\n",
        "             c(\"H\", \"Y\", 90),\n",
        "             c(\"I\", \"Y\", 70)) \n",
        "colnames(rede) = c(\"De\", \"Para\", \"capacity\") # \"capacity\" é o único nome que deve aparecer exatamente como escrito aqui\n",
        "rede = as.data.frame(rede)\n",
        "rede"
      ],
      "metadata": {
        "colab": {
          "base_uri": "https://localhost:8080/",
          "height": 569
        },
        "id": "0yI5XGB55GiV",
        "outputId": "9e1fc6da-baeb-411a-a529-db64c1b49bf3"
      },
      "execution_count": 9,
      "outputs": [
        {
          "output_type": "display_data",
          "data": {
            "text/html": [
              "<table class=\"dataframe\">\n",
              "<caption>A data.frame: 15 × 3</caption>\n",
              "<thead>\n",
              "\t<tr><th scope=col>De</th><th scope=col>Para</th><th scope=col>capacity</th></tr>\n",
              "\t<tr><th scope=col>&lt;chr&gt;</th><th scope=col>&lt;chr&gt;</th><th scope=col>&lt;chr&gt;</th></tr>\n",
              "</thead>\n",
              "<tbody>\n",
              "\t<tr><td>X</td><td>A</td><td>70</td></tr>\n",
              "\t<tr><td>X</td><td>B</td><td>50</td></tr>\n",
              "\t<tr><td>X</td><td>C</td><td>60</td></tr>\n",
              "\t<tr><td>A</td><td>D</td><td>70</td></tr>\n",
              "\t<tr><td>B</td><td>E</td><td>20</td></tr>\n",
              "\t<tr><td>B</td><td>F</td><td>30</td></tr>\n",
              "\t<tr><td>C</td><td>F</td><td>40</td></tr>\n",
              "\t<tr><td>C</td><td>G</td><td>20</td></tr>\n",
              "\t<tr><td>D</td><td>H</td><td>50</td></tr>\n",
              "\t<tr><td>E</td><td>H</td><td>20</td></tr>\n",
              "\t<tr><td>F</td><td>H</td><td>20</td></tr>\n",
              "\t<tr><td>F</td><td>I</td><td>45</td></tr>\n",
              "\t<tr><td>G</td><td>I</td><td>25</td></tr>\n",
              "\t<tr><td>H</td><td>Y</td><td>90</td></tr>\n",
              "\t<tr><td>I</td><td>Y</td><td>70</td></tr>\n",
              "</tbody>\n",
              "</table>\n"
            ],
            "text/markdown": "\nA data.frame: 15 × 3\n\n| De &lt;chr&gt; | Para &lt;chr&gt; | capacity &lt;chr&gt; |\n|---|---|---|\n| X | A | 70 |\n| X | B | 50 |\n| X | C | 60 |\n| A | D | 70 |\n| B | E | 20 |\n| B | F | 30 |\n| C | F | 40 |\n| C | G | 20 |\n| D | H | 50 |\n| E | H | 20 |\n| F | H | 20 |\n| F | I | 45 |\n| G | I | 25 |\n| H | Y | 90 |\n| I | Y | 70 |\n\n",
            "text/latex": "A data.frame: 15 × 3\n\\begin{tabular}{lll}\n De & Para & capacity\\\\\n <chr> & <chr> & <chr>\\\\\n\\hline\n\t X & A & 70\\\\\n\t X & B & 50\\\\\n\t X & C & 60\\\\\n\t A & D & 70\\\\\n\t B & E & 20\\\\\n\t B & F & 30\\\\\n\t C & F & 40\\\\\n\t C & G & 20\\\\\n\t D & H & 50\\\\\n\t E & H & 20\\\\\n\t F & H & 20\\\\\n\t F & I & 45\\\\\n\t G & I & 25\\\\\n\t H & Y & 90\\\\\n\t I & Y & 70\\\\\n\\end{tabular}\n",
            "text/plain": [
              "   De Para capacity\n",
              "1  X  A    70      \n",
              "2  X  B    50      \n",
              "3  X  C    60      \n",
              "4  A  D    70      \n",
              "5  B  E    20      \n",
              "6  B  F    30      \n",
              "7  C  F    40      \n",
              "8  C  G    20      \n",
              "9  D  H    50      \n",
              "10 E  H    20      \n",
              "11 F  H    20      \n",
              "12 F  I    45      \n",
              "13 G  I    25      \n",
              "14 H  Y    90      \n",
              "15 I  Y    70      "
            ]
          },
          "metadata": {}
        }
      ]
    },
    {
      "cell_type": "code",
      "source": [
        "rede_para_grafico = graph_from_data_frame(rede)\n",
        "rede_para_grafico"
      ],
      "metadata": {
        "colab": {
          "base_uri": "https://localhost:8080/",
          "height": 90
        },
        "id": "6TQK39-T5_8H",
        "outputId": "295092b2-1625-4120-af6b-6c42864b4043"
      },
      "execution_count": 10,
      "outputs": [
        {
          "output_type": "display_data",
          "data": {
            "text/plain": [
              "IGRAPH 58acdfe DN-- 11 15 -- \n",
              "+ attr: name (v/c), capacity (e/c)\n",
              "+ edges from 58acdfe (vertex names):\n",
              " [1] X->A X->B X->C A->D B->E B->F C->F C->G D->H E->H F->H F->I G->I H->Y I->Y"
            ]
          },
          "metadata": {}
        }
      ]
    },
    {
      "cell_type": "code",
      "source": [
        "resultados = max_flow(rede_para_grafico, source = V(rede_para_grafico)[\"X\"], target = V(rede_para_grafico)[\"Y\"])\n",
        "resultados"
      ],
      "metadata": {
        "colab": {
          "base_uri": "https://localhost:8080/",
          "height": 623
        },
        "id": "tkR3tHkB6Lzi",
        "outputId": "c9136a86-035a-48bd-c73a-b01b7713c56f"
      },
      "execution_count": 11,
      "outputs": [
        {
          "output_type": "display_data",
          "data": {
            "text/plain": [
              "$value\n",
              "[1] 155\n",
              "\n",
              "$flow\n",
              " [1] 50 50 55 50 20 30 35 20 50 20 20 45 20 90 65\n",
              "\n",
              "$cut\n",
              "[1]  8 12 14\n",
              "\n",
              "$partition1\n",
              "+ 8/11 vertices, named, from 58acdfe:\n",
              "[1] X A B C D E F H\n",
              "\n",
              "$partition2\n",
              "+ 3/11 vertices, named, from 58acdfe:\n",
              "[1] G I Y\n",
              "\n",
              "$stats\n",
              "$stats$nopush\n",
              "[1] 17\n",
              "\n",
              "$stats$norelabel\n",
              "[1] 8\n",
              "\n",
              "$stats$nogap\n",
              "[1] 4\n",
              "\n",
              "$stats$nogapnodes\n",
              "[1] 3\n",
              "\n",
              "$stats$nobfs\n",
              "[1] 1\n",
              "\n"
            ]
          },
          "metadata": {}
        }
      ]
    },
    {
      "cell_type": "code",
      "source": [
        "plot(rede_para_grafico, edge.label = resultados$flow)"
      ],
      "metadata": {
        "colab": {
          "base_uri": "https://localhost:8080/",
          "height": 437
        },
        "id": "hoYElGV26bif",
        "outputId": "2eaaf380-02b0-4c17-e10b-106ab5f7ab83"
      },
      "execution_count": 12,
      "outputs": [
        {
          "output_type": "display_data",
          "data": {
            "text/plain": [
              "Plot with title “”"
            ],
            "image/png": "[encoded data removed]"
          },
          "metadata": {
            "image/png": {
              "width": 420,
              "height": 420
            }
          }
        }
      ]
    }
  ]
}
