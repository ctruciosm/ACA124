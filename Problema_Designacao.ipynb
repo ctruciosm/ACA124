{
  "nbformat": 4,
  "nbformat_minor": 0,
  "metadata": {
    "colab": {
      "name": "Problemas_Designacao.ipynb",
      "provenance": [],
      "authorship_tag": "ABX9TyMwxSh/IMhqdyajBYz4TpF5",
      "include_colab_link": true
    },
    "kernelspec": {
      "name": "ir",
      "display_name": "R"
    },
    "language_info": {
      "name": "R"
    }
  },
  "cells": [
    {
      "cell_type": "markdown",
      "metadata": {
        "id": "view-in-github",
        "colab_type": "text"
      },
      "source": [
        "<a href=\"https://colab.research.google.com/github/ctruciosm/ACA124/blob/main/Problema_Designacao.ipynb\" target=\"_parent\"><img src=\"https://colab.research.google.com/assets/colab-badge.svg\" alt=\"Open In Colab\"/></a>"
      ]
    },
    {
      "cell_type": "markdown",
      "source": [
        "# Problema da Designação\n",
        "\n",
        "- O **problema da designação** é um tipo especial de problema de programação linear em que os **designados** estão sendo indicados para a realizaçñao de **tarefas**.\n",
        "- Os **designados** não precisam ser pessoas, podem ser máquinas, veículos, fábricas ou mesmo períodos a serem destinados às tarefas.\n",
        "- O **problema da designação** pode ser visto como um caso especial do **problema de transporte**."
      ],
      "metadata": {
        "id": "DQrcg61IWFNi"
      }
    },
    {
      "cell_type": "markdown",
      "source": [
        "## Hipóteses\n",
        "\n",
        "Assim como em todos os outros casos, este problema assume implicitamente que algumas hipóteses são satisfeitas, sendo elas:\n",
        "\n",
        "- O número de designados e o número de tarefas **é o mesmo** ($n$).\n",
        "- Deve-se atribuir a cada designado exatamente **uma tarefa**.\n",
        "- Cada tarefa deve ser realizada exatamente por um designado.\n",
        "- Há um custo associado ao designado $i$ executando a tarefa $j$ ($i,j = 1, \\cdots, n$.)\n",
        "- *O objetivo é determinar como todas as $n$ designações devem ser feitas para minimizar o custo total*.\n",
        "\n",
        "> Qualquer problema que satisfaça essas hipoteses pode ser resolvido através do problema de designação."
      ],
      "metadata": {
        "id": "NFfRLgylXLJA"
      }
    },
    {
      "cell_type": "markdown",
      "source": [
        "## Caso de estudo \n",
        "\n",
        "A plataforma de cursos online \"AjUdemy\" recebe uma demanda para a criação de três novos cursos a serem lançados no mês de junho. No momento, \"AjUdemy\" dispõe de três professores _freelancers_ que poderiam dar conta da demandas. Contudo, devido às atividades dos professores, cada um deles pode trabalhar apenas em um único curso. Além disso, a política da \"AjUdemy\" é que apenas um professor desenvolva o curso inteiro. Os valores cobrados por cada professor pela elaboração de cada curso estão disponíveis na seguinte Tabela\n",
        "\n",
        "\n",
        "| Professores \\ Cursos:  | Curso 1  |  Curso 2  |   Curso 3    |\n",
        "|:----------------------:|:--------:|:---------:|:------------:|\n",
        "| Professor 1            | 10 000   |  20 000   |   10 000     |\n",
        "| Professor 2            | 15 000   |  20 000   |    5 000     |\n",
        "| Professor 3            | 20 000   |  10 000   |   10 000     |\n",
        "\n",
        "\n",
        "Seja $X_{ij}$ a designação do professor $i$ à tarefa (curso) $j$.\n",
        "\n",
        "Assim, o problema a ser resolvido é minimizar:\n",
        "\n",
        "\\begin{align}\n",
        "        Z = \\quad & 10 000 X_{11} + 20 000 X_{12} + 10 000X_{13} + \\\\\n",
        "                  & 15 000 X_{21} + 20 000 X_{22} + 5 000 X_{23} + \\\\\n",
        "                  & 20 000 X_{31} + 10 000 X_{32} + 10 000 X_{33},\n",
        "\\end{align} \n",
        "\n",
        "sujeito às restrições:\n",
        "\n",
        "- $X_{11} + X_{12} + X_{13} = 1$\n",
        "- $X_{21} + X_{22} + X_{23} = 1$\n",
        "- $X_{31} + X_{32} + X_{33} = 1$\n",
        "\n",
        "- $X_{11} + X_{21} + X_{31} = 1$\n",
        "- $X_{12} + X_{22} + X_{32} = 1$\n",
        "- $X_{13} + X_{23} + X_{33} = 1$\n",
        "\n",
        "- $X_{ij} \\geq 0$.\n"
      ],
      "metadata": {
        "id": "iuMv3CgqYiJl"
      }
    },
    {
      "cell_type": "markdown",
      "source": [
        "Note que o problma pode ser visto como um problema de transporte em que:\n",
        "\n",
        "\n",
        "| Professores \\ Cursos:  | Curso 1  |  Curso 2  |   Curso 3    |    |\n",
        "|:----------------------:|:--------:|:---------:|:------------:|:--:|\n",
        "| Professor 1            | 10 000   |  20 000   |   10 000     | 1  |\n",
        "| Professor 2            | 15 000   |  20 000   |    5 000     | 1  |\n",
        "| Professor 3            | 20 000   |  10 000   |   10 000     | 1  |\n",
        "|                        |      1   |       1   |        1     |    |\n",
        "\n",
        "\n"
      ],
      "metadata": {
        "id": "b-uaramThPQJ"
      }
    },
    {
      "cell_type": "code",
      "execution_count": 1,
      "metadata": {
        "colab": {
          "base_uri": "https://localhost:8080/"
        },
        "id": "dzPIF4WoWAu9",
        "outputId": "31c3870a-946e-47c5-b3f3-7321a9c0fa95"
      },
      "outputs": [
        {
          "output_type": "stream",
          "name": "stderr",
          "text": [
            "Installing package into ‘/usr/local/lib/R/site-library’\n",
            "(as ‘lib’ is unspecified)\n",
            "\n"
          ]
        }
      ],
      "source": [
        "install.packages(\"lpSolve\")"
      ]
    },
    {
      "cell_type": "code",
      "source": [
        "library(lpSolve)\n",
        "\n",
        "matriz_custos = matrix(c(10000, 15000, 20000, 20000, 20000, 10000, 10000, 5000, 10000), ncol = 3)\n",
        "\n",
        "s_sinal = rep(\"=\", 3)\n",
        "s_valores = c(1, 1, 1)\n",
        "\n",
        "d_sinal = rep(\"=\", 3)\n",
        "d_valores = c(1, 1, 1)"
      ],
      "metadata": {
        "id": "Qsuuk_NBichd"
      },
      "execution_count": 4,
      "outputs": []
    },
    {
      "cell_type": "code",
      "source": [
        "resultados = lp.transport(matriz_custos, \"min\", \n",
        "                          row.signs = s_sinal, row.rhs = s_valores, \n",
        "                          col.signs = d_sinal, col.rhs = d_valores)"
      ],
      "metadata": {
        "id": "ivN1jGg1ioNP"
      },
      "execution_count": 5,
      "outputs": []
    },
    {
      "cell_type": "code",
      "source": [
        "resultados$solution"
      ],
      "metadata": {
        "colab": {
          "base_uri": "https://localhost:8080/",
          "height": 163
        },
        "id": "eYJmVNsSi-xt",
        "outputId": "392f5466-d63a-45f3-e905-e33db8d0e94d"
      },
      "execution_count": 6,
      "outputs": [
        {
          "output_type": "display_data",
          "data": {
            "text/html": [
              "<table class=\"dataframe\">\n",
              "<caption>A matrix: 3 × 3 of type dbl</caption>\n",
              "<tbody>\n",
              "\t<tr><td>1</td><td>0</td><td>0</td></tr>\n",
              "\t<tr><td>0</td><td>0</td><td>1</td></tr>\n",
              "\t<tr><td>0</td><td>1</td><td>0</td></tr>\n",
              "</tbody>\n",
              "</table>\n"
            ],
            "text/markdown": "\nA matrix: 3 × 3 of type dbl\n\n| 1 | 0 | 0 |\n| 0 | 0 | 1 |\n| 0 | 1 | 0 |\n\n",
            "text/latex": "A matrix: 3 × 3 of type dbl\n\\begin{tabular}{lll}\n\t 1 & 0 & 0\\\\\n\t 0 & 0 & 1\\\\\n\t 0 & 1 & 0\\\\\n\\end{tabular}\n",
            "text/plain": [
              "     [,1] [,2] [,3]\n",
              "[1,] 1    0    0   \n",
              "[2,] 0    0    1   \n",
              "[3,] 0    1    0   "
            ]
          },
          "metadata": {}
        }
      ]
    },
    {
      "cell_type": "code",
      "source": [
        "resultados"
      ],
      "metadata": {
        "colab": {
          "base_uri": "https://localhost:8080/",
          "height": 35
        },
        "id": "dMl8vGHkjF8P",
        "outputId": "db8d2370-5df2-4494-ad4f-6a308ed95b8a"
      },
      "execution_count": 7,
      "outputs": [
        {
          "output_type": "display_data",
          "data": {
            "text/plain": [
              "Success: the objective function is 25000 "
            ]
          },
          "metadata": {}
        }
      ]
    },
    {
      "cell_type": "markdown",
      "source": [
        "> No caso específico do problema da designação, existe uma forma mais eficiente de resolver o problema. Ela está implementada na função `lp.assign` do pacote `lpSolve`"
      ],
      "metadata": {
        "id": "DCTiAT3Xj79A"
      }
    },
    {
      "cell_type": "code",
      "source": [
        "resultados_designacao = lp.assign (matriz_custos, direction = \"min\")"
      ],
      "metadata": {
        "id": "3dO6u5-MkW5o"
      },
      "execution_count": 8,
      "outputs": []
    },
    {
      "cell_type": "code",
      "source": [
        "resultados_designacao$solution"
      ],
      "metadata": {
        "colab": {
          "base_uri": "https://localhost:8080/",
          "height": 163
        },
        "id": "d4EvqAsGkcJD",
        "outputId": "d3f2c902-7f4e-494a-fde3-6dcfcd529a9b"
      },
      "execution_count": 10,
      "outputs": [
        {
          "output_type": "display_data",
          "data": {
            "text/html": [
              "<table class=\"dataframe\">\n",
              "<caption>A matrix: 3 × 3 of type dbl</caption>\n",
              "<tbody>\n",
              "\t<tr><td>1</td><td>0</td><td>0</td></tr>\n",
              "\t<tr><td>0</td><td>0</td><td>1</td></tr>\n",
              "\t<tr><td>0</td><td>1</td><td>0</td></tr>\n",
              "</tbody>\n",
              "</table>\n"
            ],
            "text/markdown": "\nA matrix: 3 × 3 of type dbl\n\n| 1 | 0 | 0 |\n| 0 | 0 | 1 |\n| 0 | 1 | 0 |\n\n",
            "text/latex": "A matrix: 3 × 3 of type dbl\n\\begin{tabular}{lll}\n\t 1 & 0 & 0\\\\\n\t 0 & 0 & 1\\\\\n\t 0 & 1 & 0\\\\\n\\end{tabular}\n",
            "text/plain": [
              "     [,1] [,2] [,3]\n",
              "[1,] 1    0    0   \n",
              "[2,] 0    0    1   \n",
              "[3,] 0    1    0   "
            ]
          },
          "metadata": {}
        }
      ]
    },
    {
      "cell_type": "code",
      "source": [
        "resultados_designacao"
      ],
      "metadata": {
        "colab": {
          "base_uri": "https://localhost:8080/",
          "height": 35
        },
        "id": "_tyFCQDgkjtA",
        "outputId": "72b9a057-5b8c-433c-b9fc-a8429cdf6a0a"
      },
      "execution_count": 11,
      "outputs": [
        {
          "output_type": "display_data",
          "data": {
            "text/plain": [
              "Success: the objective function is 25000 "
            ]
          },
          "metadata": {}
        }
      ]
    },
    {
      "cell_type": "markdown",
      "source": [
        "\n",
        "Apenas a maneira de exemplo, compararemos o tempo utilizado em ambos os algoritmos.\n",
        "\n"
      ],
      "metadata": {
        "id": "fouHAUyEkmTL"
      }
    },
    {
      "cell_type": "code",
      "source": [
        "install.packages(\"microbenchmark\")"
      ],
      "metadata": {
        "colab": {
          "base_uri": "https://localhost:8080/"
        },
        "id": "ZEdetxDHklb4",
        "outputId": "16845614-1bca-42bf-b2e4-c1d5cf019526"
      },
      "execution_count": 12,
      "outputs": [
        {
          "output_type": "stream",
          "name": "stderr",
          "text": [
            "Installing package into ‘/usr/local/lib/R/site-library’\n",
            "(as ‘lib’ is unspecified)\n",
            "\n"
          ]
        }
      ]
    },
    {
      "cell_type": "code",
      "source": [
        "library(microbenchmark)\n",
        "comparar = microbenchmark(lp_transport = lp.transport(matriz_custos, \"min\", \n",
        "                          row.signs = s_sinal, row.rhs = s_valores, \n",
        "                          col.signs = d_sinal, col.rhs = d_valores),\n",
        "                          lp_assign = lp.assign (matriz_custos, direction = \"min\"),\n",
        "                          times = 1000L) \n",
        "boxplot(comparar)                                "
      ],
      "metadata": {
        "colab": {
          "base_uri": "https://localhost:8080/",
          "height": 437
        },
        "id": "rU442Kn6kzf3",
        "outputId": "74417c4f-66b1-4739-b9b0-122d3e786f47"
      },
      "execution_count": 22,
      "outputs": [
        {
          "output_type": "display_data",
          "data": {
            "text/plain": [
              "plot without title"
            ],
            "image/png": "[encoded data removed]"
          },
          "metadata": {
            "image/png": {
              "width": 420,
              "height": 420
            }
          }
        }
      ]
    },
    {
      "cell_type": "markdown",
      "source": [
        "Utilizar a função `lp.assign()` é muito mais rápido do que utilizar `lp.transport()`. Isto é devido ao fato de que `lp.assign()` utiliza um algoritmo que é mais eficiente para este tipo de problemas."
      ],
      "metadata": {
        "id": "l2OvZb5eqsvt"
      }
    },
    {
      "cell_type": "markdown",
      "source": [
        "**Importante:** diversas aplicações não satisfazem as hipóteses do problem da designação e consequentemente não se enquadram (propriamente dito) neste problema. Contudo, é possível reformular o problema para que o problema reformulado satisfaça as hipóteses. Isto é feito através de designados/tarefas **fantasmas**. Não entraremos em detalhe de como fazer isto manualmente mas em como resolver o problema utilizando o **R**."
      ],
      "metadata": {
        "id": "qkWJa669rApb"
      }
    },
    {
      "cell_type": "markdown",
      "source": [
        "## Modificação do caso de estudo.\n",
        "\n",
        "Imagine que no caso de estudo anterior, os dados do problema são como apresentados a seguir:\n",
        "\n",
        "| Professores \\ Cursos:  | Curso 1  |  Curso 2  |   Curso 3    |\n",
        "|:----------------------:|:--------:|:---------:|:------------:|\n",
        "| Professor 1            | 10 000   |  20 000   |   10 000     |\n",
        "| Professor 2            | 15 000   |  20 000   |    5 000     |\n",
        "| Professor 3            | 20 000   |  10 000   |   10 000     |\n",
        "| Professor 4            |  5 000   |   5 000   |    5 000     |\n",
        "\n",
        "O problema não satisfaz as hipóteses necesárias para o problema da designação, mas o problema pode ser visto como um problema de transporte em que:\n",
        "\n",
        "| Professores \\ Cursos:  | Curso 1  |  Curso 2  |   Curso 3   |       |\n",
        "|:----------------------:|:--------:|:---------:|:-----------:|:-----:|\n",
        "| Professor 1            | 10 000   |  20 000   |   10 000    |$\\leq 1$|\n",
        "| Professor 2            | 15 000   |  20 000   |    5 000    |$\\leq 1$|\n",
        "| Professor 3            | 20 000   |  10 000   |   10 000    |$\\leq 1$|\n",
        "| Professor 4            |  5 000   |   5 000   |    5 000    |$\\leq 1$|\n",
        "|                        |  = 1     |   = 1     |    = 1      |        |\n",
        "\n"
      ],
      "metadata": {
        "id": "ZRjYg74qr9db"
      }
    },
    {
      "cell_type": "code",
      "source": [
        "matriz_custos = matrix(c(10000, 15000, 20000, 5000, 20000, 20000, 10000, 5000, 10000, 5000, 10000, 5000), ncol = 3)\n",
        "matriz_custos"
      ],
      "metadata": {
        "colab": {
          "base_uri": "https://localhost:8080/",
          "height": 177
        },
        "id": "1h01x0h8skuc",
        "outputId": "c626a967-bb88-4d99-af3a-67d806f787a5"
      },
      "execution_count": 23,
      "outputs": [
        {
          "output_type": "display_data",
          "data": {
            "text/html": [
              "<table class=\"dataframe\">\n",
              "<caption>A matrix: 4 × 3 of type dbl</caption>\n",
              "<tbody>\n",
              "\t<tr><td>10000</td><td>20000</td><td>10000</td></tr>\n",
              "\t<tr><td>15000</td><td>20000</td><td> 5000</td></tr>\n",
              "\t<tr><td>20000</td><td>10000</td><td>10000</td></tr>\n",
              "\t<tr><td> 5000</td><td> 5000</td><td> 5000</td></tr>\n",
              "</tbody>\n",
              "</table>\n"
            ],
            "text/markdown": "\nA matrix: 4 × 3 of type dbl\n\n| 10000 | 20000 | 10000 |\n| 15000 | 20000 |  5000 |\n| 20000 | 10000 | 10000 |\n|  5000 |  5000 |  5000 |\n\n",
            "text/latex": "A matrix: 4 × 3 of type dbl\n\\begin{tabular}{lll}\n\t 10000 & 20000 & 10000\\\\\n\t 15000 & 20000 &  5000\\\\\n\t 20000 & 10000 & 10000\\\\\n\t  5000 &  5000 &  5000\\\\\n\\end{tabular}\n",
            "text/plain": [
              "     [,1]  [,2]  [,3] \n",
              "[1,] 10000 20000 10000\n",
              "[2,] 15000 20000  5000\n",
              "[3,] 20000 10000 10000\n",
              "[4,]  5000  5000  5000"
            ]
          },
          "metadata": {}
        }
      ]
    },
    {
      "cell_type": "code",
      "source": [
        "s_sinal = rep(\"<=\", 4)\n",
        "s_valores = c(1, 1, 1, 1)\n",
        "\n",
        "d_sinal = rep(\"=\", 3)\n",
        "d_valores = c(1, 1, 1)"
      ],
      "metadata": {
        "id": "yAgZKBKcu6r9"
      },
      "execution_count": 29,
      "outputs": []
    },
    {
      "cell_type": "code",
      "source": [
        "resultados = lp.transport(matriz_custos, \"min\", \n",
        "                          row.signs = s_sinal, row.rhs = s_valores, \n",
        "                          col.signs = d_sinal, col.rhs = d_valores)"
      ],
      "metadata": {
        "id": "-_dAgMEcsst2"
      },
      "execution_count": 30,
      "outputs": []
    },
    {
      "cell_type": "code",
      "source": [
        "resultados$solution"
      ],
      "metadata": {
        "colab": {
          "base_uri": "https://localhost:8080/",
          "height": 195
        },
        "id": "W3RYksgesvXb",
        "outputId": "1c1ce32c-eb16-4c9a-ee17-189b55f366c8"
      },
      "execution_count": 31,
      "outputs": [
        {
          "output_type": "display_data",
          "data": {
            "text/html": [
              "<table class=\"dataframe\">\n",
              "<caption>A matrix: 4 × 3 of type dbl</caption>\n",
              "<tbody>\n",
              "\t<tr><td>1</td><td>0</td><td>0</td></tr>\n",
              "\t<tr><td>0</td><td>0</td><td>1</td></tr>\n",
              "\t<tr><td>0</td><td>0</td><td>0</td></tr>\n",
              "\t<tr><td>0</td><td>1</td><td>0</td></tr>\n",
              "</tbody>\n",
              "</table>\n"
            ],
            "text/markdown": "\nA matrix: 4 × 3 of type dbl\n\n| 1 | 0 | 0 |\n| 0 | 0 | 1 |\n| 0 | 0 | 0 |\n| 0 | 1 | 0 |\n\n",
            "text/latex": "A matrix: 4 × 3 of type dbl\n\\begin{tabular}{lll}\n\t 1 & 0 & 0\\\\\n\t 0 & 0 & 1\\\\\n\t 0 & 0 & 0\\\\\n\t 0 & 1 & 0\\\\\n\\end{tabular}\n",
            "text/plain": [
              "     [,1] [,2] [,3]\n",
              "[1,] 1    0    0   \n",
              "[2,] 0    0    1   \n",
              "[3,] 0    0    0   \n",
              "[4,] 0    1    0   "
            ]
          },
          "metadata": {}
        }
      ]
    },
    {
      "cell_type": "code",
      "source": [
        "resultados"
      ],
      "metadata": {
        "colab": {
          "base_uri": "https://localhost:8080/",
          "height": 35
        },
        "id": "Sw35akLHsxKg",
        "outputId": "660dd628-56e0-4885-b150-5798985f00e0"
      },
      "execution_count": 33,
      "outputs": [
        {
          "output_type": "display_data",
          "data": {
            "text/plain": [
              "Success: the objective function is 20000 "
            ]
          },
          "metadata": {}
        }
      ]
    },
    {
      "cell_type": "markdown",
      "source": [
        "**Observação:** a função `lp.assign()` não funciona se as hipóteses do problema da designação não são satisfeitas. Contudo, como o problema de designação é um caso especial do problema de transporte, podemos utilizar a função `lp.transport()`."
      ],
      "metadata": {
        "id": "A-2IKX5SvSkN"
      }
    },
    {
      "cell_type": "markdown",
      "source": [
        "## Exemplos\n",
        "\n",
        "A seguir apresentaremos alguns outros exemplos referentes tanto ao **problema de transporte** quando ao **problema da designação.**"
      ],
      "metadata": {
        "id": "fUJL17pswN3v"
      }
    },
    {
      "cell_type": "markdown",
      "source": [
        "### Exemplo 1\n",
        "\n",
        "[adaptado de Lachtermacher (2014)] \"Velozes e não tão furiosos Ltda\" fornece motores para equipes de _Motorcycle racing_ no Brasil. A empresa, detém uma série de contratos de entregas futuras programadas para o próximo ano. As entregas deverão ocorrer trimestralmente, de acordo com as necesidades das equipes. As entregas são feitas no final do trimestre e os motores podem ser armazenados por quantos trimestres forem necessários ao custo de 0.015 milhão de reais por trimestre. Estamos interessados em minimizar os custos totais de produção (produção + armazenagem). Quantos e quando os motores pedidos devem ser produzidos e entregues?. As entregas programadas e capacidade de produção por trimestre, bem como o custo unitário de produção são apresentados na Tabela abaixo.\n",
        "\n",
        "\n",
        "| Trimestre  | Pedidos Contratados  | Capacidade de Produção | Custo de Produção (em milhoes) |\n",
        "|:----------:|:--------------------:|:----------------------:|:--------------------:|\n",
        "| Trimestre 1 | 10  | 25 | 1.08 |\n",
        "| Trimestre 2 | 15  | 35 | 1.11 |\n",
        "| Trimestre 3 | 25  | 30 | 1.10 |\n",
        "| Trimestre 4 | 20  | 10 | 1.13 |\n",
        "\n",
        "\n"
      ],
      "metadata": {
        "id": "dNDHvzwXw_OY"
      }
    },
    {
      "cell_type": "markdown",
      "source": [
        "Para resolver o problema, precisamos interpretá-lo e determinar quais serão as **origens**, os **destinos** e as restrições a serem utilizadas. Assim, definimos:\n",
        "\n",
        "- Origem $i$: número de motores **produzidos** no trimestre $i$.\n",
        "- Destino $j$: número de motores **entregues** no trimestre $j$.\n",
        "\n",
        "Com as origens e destinos definidos, podemos construir a seguinte tabela:\n",
        "\n",
        "\n",
        "\n",
        "| Origens \\ Destinos:   | Trimestre 1 | Trimestre 2 | Trimestre 3 | Trimestre 4 | Capacidade de Produção\n",
        "|:----------:|:--------------------:|:----------------------:|:----------------------:|:--------------------:|:--------------------:|\n",
        "| Trimestre 1 | 1.08  | 1.095 | 1.110 | 1.125      |  25   |\n",
        "| Trimestre 2 |  -    | 1.11   | 1.125  | 1.140   |  35   |\n",
        "| Trimestre 3 |  -    | -      | 1.100    | 1.115   |  30   |\n",
        "| Trimestre 4 |  -    | -      |  -      | 1.130     |  10   |\n",
        "| **Pedidos Contratados** |  10  | 15  | 25  | 20 |   |\n",
        "\n"
      ],
      "metadata": {
        "id": "8jfHo4jy0Be4"
      }
    },
    {
      "cell_type": "markdown",
      "source": [
        "**Lembre-se:** se podemos apresentar todas as informações referentes ao problema como na Tabela anterior, então podemos utilizar o problema de transporte para obter a solução."
      ],
      "metadata": {
        "id": "RWQqbMo253DD"
      }
    },
    {
      "cell_type": "code",
      "source": [
        "matriz_custos = matrix(c(1.08, 0, 0, 0, 1.095, 1.11, 0, 0, 1.11, 1.125, 1.10, 0, 1.125, 1.114, 1.115, 1.13), ncol = 4)\n",
        "matriz_custos"
      ],
      "metadata": {
        "colab": {
          "base_uri": "https://localhost:8080/",
          "height": 160
        },
        "id": "nS8BPt4B6Cz1",
        "outputId": "ec588ff7-f93d-42c5-b472-4ca903415c22"
      },
      "execution_count": 48,
      "outputs": [
        {
          "output_type": "display_data",
          "data": {
            "text/html": [
              "<table class=\"dataframe\">\n",
              "<caption>A matrix: 4 × 4 of type dbl</caption>\n",
              "<tbody>\n",
              "\t<tr><td>1.08</td><td>1.095</td><td>1.110</td><td>1.125</td></tr>\n",
              "\t<tr><td>0.00</td><td>1.110</td><td>1.125</td><td>1.114</td></tr>\n",
              "\t<tr><td>0.00</td><td>0.000</td><td>1.100</td><td>1.115</td></tr>\n",
              "\t<tr><td>0.00</td><td>0.000</td><td>0.000</td><td>1.130</td></tr>\n",
              "</tbody>\n",
              "</table>\n"
            ],
            "text/markdown": "\nA matrix: 4 × 4 of type dbl\n\n| 1.08 | 1.095 | 1.110 | 1.125 |\n| 0.00 | 1.110 | 1.125 | 1.114 |\n| 0.00 | 0.000 | 1.100 | 1.115 |\n| 0.00 | 0.000 | 0.000 | 1.130 |\n\n",
            "text/latex": "A matrix: 4 × 4 of type dbl\n\\begin{tabular}{llll}\n\t 1.08 & 1.095 & 1.110 & 1.125\\\\\n\t 0.00 & 1.110 & 1.125 & 1.114\\\\\n\t 0.00 & 0.000 & 1.100 & 1.115\\\\\n\t 0.00 & 0.000 & 0.000 & 1.130\\\\\n\\end{tabular}\n",
            "text/plain": [
              "     [,1] [,2]  [,3]  [,4] \n",
              "[1,] 1.08 1.095 1.110 1.125\n",
              "[2,] 0.00 1.110 1.125 1.114\n",
              "[3,] 0.00 0.000 1.100 1.115\n",
              "[4,] 0.00 0.000 0.000 1.130"
            ]
          },
          "metadata": {}
        }
      ]
    },
    {
      "cell_type": "code",
      "source": [
        "s_sinal = rep(\"<=\", 4)\n",
        "s_valores = c(25, 35, 30, 10)\n",
        "\n",
        "d_sinal = rep(\"=\", 4)\n",
        "d_valores = c(10, 15, 25, 20)"
      ],
      "metadata": {
        "id": "2nBxXqfL6QnT"
      },
      "execution_count": 49,
      "outputs": []
    },
    {
      "cell_type": "code",
      "source": [
        "resultados = lp.transport(matriz_custos, \"min\", \n",
        "                          row.signs = s_sinal, row.rhs = s_valores, \n",
        "                          col.signs = d_sinal, col.rhs = d_valores)"
      ],
      "metadata": {
        "id": "_8t95VS96dMZ"
      },
      "execution_count": 50,
      "outputs": []
    },
    {
      "cell_type": "code",
      "source": [
        "resultados$solution"
      ],
      "metadata": {
        "colab": {
          "base_uri": "https://localhost:8080/",
          "height": 177
        },
        "id": "kMfs0mMH6gpQ",
        "outputId": "257de121-e3ec-4fe8-e82f-e6a8ae012098"
      },
      "execution_count": 51,
      "outputs": [
        {
          "output_type": "display_data",
          "data": {
            "text/html": [
              "<table class=\"dataframe\">\n",
              "<caption>A matrix: 4 × 4 of type dbl</caption>\n",
              "<tbody>\n",
              "\t<tr><td> 0</td><td> 0</td><td> 0</td><td> 0</td></tr>\n",
              "\t<tr><td>10</td><td> 0</td><td> 0</td><td>20</td></tr>\n",
              "\t<tr><td> 0</td><td>15</td><td>15</td><td> 0</td></tr>\n",
              "\t<tr><td> 0</td><td> 0</td><td>10</td><td> 0</td></tr>\n",
              "</tbody>\n",
              "</table>\n"
            ],
            "text/markdown": "\nA matrix: 4 × 4 of type dbl\n\n|  0 |  0 |  0 |  0 |\n| 10 |  0 |  0 | 20 |\n|  0 | 15 | 15 |  0 |\n|  0 |  0 | 10 |  0 |\n\n",
            "text/latex": "A matrix: 4 × 4 of type dbl\n\\begin{tabular}{llll}\n\t  0 &  0 &  0 &  0\\\\\n\t 10 &  0 &  0 & 20\\\\\n\t  0 & 15 & 15 &  0\\\\\n\t  0 &  0 & 10 &  0\\\\\n\\end{tabular}\n",
            "text/plain": [
              "     [,1] [,2] [,3] [,4]\n",
              "[1,]  0    0    0    0  \n",
              "[2,] 10    0    0   20  \n",
              "[3,]  0   15   15    0  \n",
              "[4,]  0    0   10    0  "
            ]
          },
          "metadata": {}
        }
      ]
    },
    {
      "cell_type": "code",
      "source": [
        "resultados"
      ],
      "metadata": {
        "colab": {
          "base_uri": "https://localhost:8080/",
          "height": 35
        },
        "id": "R6nfM4rT6jyi",
        "outputId": "54429bfd-a1eb-400d-cac2-2086e1ff64af"
      },
      "execution_count": 52,
      "outputs": [
        {
          "output_type": "display_data",
          "data": {
            "text/plain": [
              "Success: the objective function is 38.78 "
            ]
          },
          "metadata": {}
        }
      ]
    },
    {
      "cell_type": "markdown",
      "source": [
        "**Cuidado!** ao não ter nada no campo da tabela podemos pensar em incluir o valor 0. Mas 0 implica que o custo é 0 (e quem não quer algo com custo 0?). Se colocarmoso valor 0, o algoritmo tentará atribuir valores a esses campos (mesmo que sejam impossíveis) pois nosso objetivo é minimizar curtos e que melhor do que gastar 0 reais, certo?.  Uma solução é imcluir um valor absurdamente grande ao ponto que seja pouco interessante atribuir algum valor nesse campo."
      ],
      "metadata": {
        "id": "6T_gm5GiBPVS"
      }
    },
    {
      "cell_type": "code",
      "source": [
        "matriz_custos = matrix(c(1.08, 1000, 1000, 1000, 1.095, 1.11, 1000, 1000, 1.11, 1.125, 1.10, 1000, 1.125, 1.14, 1.115, 1.13), ncol = 4)\n",
        "\n",
        "s_sinal = rep(\"<=\", 4)\n",
        "s_valores = c(25, 35, 30, 10)\n",
        "\n",
        "d_sinal = rep(\"=\", 4)\n",
        "d_valores = c(10, 15, 25, 20)\n",
        "\n",
        "resultados = lp.transport(matriz_custos, \"min\", \n",
        "                          row.signs = s_sinal, row.rhs = s_valores, \n",
        "                          col.signs = d_sinal, col.rhs = d_valores)\n",
        "\n",
        "resultados$solution"
      ],
      "metadata": {
        "colab": {
          "base_uri": "https://localhost:8080/",
          "height": 177
        },
        "id": "9w_teJnRB3Nm",
        "outputId": "743327a8-8df6-459b-ba55-03bb438346b2"
      },
      "execution_count": 53,
      "outputs": [
        {
          "output_type": "display_data",
          "data": {
            "text/html": [
              "<table class=\"dataframe\">\n",
              "<caption>A matrix: 4 × 4 of type dbl</caption>\n",
              "<tbody>\n",
              "\t<tr><td>10</td><td>10</td><td> 0</td><td> 5</td></tr>\n",
              "\t<tr><td> 0</td><td> 5</td><td> 0</td><td> 0</td></tr>\n",
              "\t<tr><td> 0</td><td> 0</td><td>25</td><td> 5</td></tr>\n",
              "\t<tr><td> 0</td><td> 0</td><td> 0</td><td>10</td></tr>\n",
              "</tbody>\n",
              "</table>\n"
            ],
            "text/markdown": "\nA matrix: 4 × 4 of type dbl\n\n| 10 | 10 |  0 |  5 |\n|  0 |  5 |  0 |  0 |\n|  0 |  0 | 25 |  5 |\n|  0 |  0 |  0 | 10 |\n\n",
            "text/latex": "A matrix: 4 × 4 of type dbl\n\\begin{tabular}{llll}\n\t 10 & 10 &  0 &  5\\\\\n\t  0 &  5 &  0 &  0\\\\\n\t  0 &  0 & 25 &  5\\\\\n\t  0 &  0 &  0 & 10\\\\\n\\end{tabular}\n",
            "text/plain": [
              "     [,1] [,2] [,3] [,4]\n",
              "[1,] 10   10    0    5  \n",
              "[2,]  0    5    0    0  \n",
              "[3,]  0    0   25    5  \n",
              "[4,]  0    0    0   10  "
            ]
          },
          "metadata": {}
        }
      ]
    },
    {
      "cell_type": "code",
      "source": [
        "resultados"
      ],
      "metadata": {
        "colab": {
          "base_uri": "https://localhost:8080/",
          "height": 35
        },
        "id": "UDDx1aDoCBsz",
        "outputId": "0b689f54-3c6f-421c-d4bb-5a09f2ff8e91"
      },
      "execution_count": 54,
      "outputs": [
        {
          "output_type": "display_data",
          "data": {
            "text/plain": [
              "Success: the objective function is 77.3 "
            ]
          },
          "metadata": {}
        }
      ]
    },
    {
      "cell_type": "markdown",
      "source": [
        "**Observação:** mas a solução no livro é diferente!\n",
        "\n",
        "**Lembre-se que podem existir vários ótimos!**"
      ],
      "metadata": {
        "id": "8oNx_rzpC5-5"
      }
    },
    {
      "cell_type": "code",
      "source": [
        "# Avaliando a sol. ótima do livro na função custo:\n",
        "1.08*10 + 1.095*15 + 1.14*5 + 1.1*25 + 1.115*5 + 1.13*10"
      ],
      "metadata": {
        "colab": {
          "base_uri": "https://localhost:8080/",
          "height": 34
        },
        "id": "zhpHpjGXDQkg",
        "outputId": "40da541d-7e7f-4293-cc32-a141a96440bf"
      },
      "execution_count": 55,
      "outputs": [
        {
          "output_type": "display_data",
          "data": {
            "text/html": [
              "77.3"
            ],
            "text/markdown": "77.3",
            "text/latex": "77.3",
            "text/plain": [
              "[1] 77.3"
            ]
          },
          "metadata": {}
        }
      ]
    },
    {
      "cell_type": "code",
      "source": [
        "# Avaliando nossa sol. ótima na função custo\n",
        "1.08*10 + 1.095*10 + 1.125*5 + 1.11*5 + 1.1*25 + 1.115*5 + 1.13*10"
      ],
      "metadata": {
        "colab": {
          "base_uri": "https://localhost:8080/",
          "height": 34
        },
        "id": "rCHnrYWkDlFX",
        "outputId": "982eb6f9-c79a-41d4-9271-6d0f61769e07"
      },
      "execution_count": 56,
      "outputs": [
        {
          "output_type": "display_data",
          "data": {
            "text/html": [
              "77.3"
            ],
            "text/markdown": "77.3",
            "text/latex": "77.3",
            "text/plain": [
              "[1] 77.3"
            ]
          },
          "metadata": {}
        }
      ]
    }
  ]
}