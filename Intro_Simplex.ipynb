{
  "nbformat": 4,
  "nbformat_minor": 0,
  "metadata": {
    "colab": {
      "name": "Intro_MQAR.ipynb",
      "provenance": [],
      "authorship_tag": "ABX9TyMEJw/9Tzc6S19Ic796klSz",
      "include_colab_link": true
    },
    "kernelspec": {
      "name": "ir",
      "display_name": "R"
    },
    "language_info": {
      "name": "R"
    }
  },
  "cells": [
    {
      "cell_type": "markdown",
      "metadata": {
        "id": "view-in-github",
        "colab_type": "text"
      },
      "source": [
        "<a href=\"https://colab.research.google.com/github/ctruciosm/ACA124/blob/main/Intro_Simplex.ipynb\" target=\"_parent\"><img src=\"https://colab.research.google.com/assets/colab-badge.svg\" alt=\"Open In Colab\"/></a>"
      ]
    },
    {
      "cell_type": "markdown",
      "source": [
        "# Introdução os Métodos Quantitativos em Administração com o Software R\n",
        "## By Prof. Carlos Trucíos"
      ],
      "metadata": {
        "id": "anZznPDGZXKD"
      }
    },
    {
      "cell_type": "markdown",
      "source": [
        "## 1. Instalando R"
      ],
      "metadata": {
        "id": "WyprPpw-aszB"
      }
    },
    {
      "cell_type": "markdown",
      "source": [
        "### 1.1 Instalando R no computador\n",
        "\n",
        "- Instalar R [Windows](https://cran.r-project.org/bin/windows/base/), [Outros SO](https://cran.r-project.org/).\n",
        "- Usuários Windows devem também instalar Rtools [Link](https://cran.r-project.org/bin/windows/Rtools/)\n",
        "- Instalar Rstudio [Link](https://www.rstudio.com/products/rstudio/download/) (escolher RStudio Desktop Free)\n",
        "- Uma vez que tenha tudo instalado, recomendo assistir o seguinte [video](https://www.youtube.com/watch?v=5SMJsKamuSQ&list=PLrqJCLOY0EkDc3zIhA0-Lk-M12FnReWwa&index=3&t=3130s) onde são apresentados os primeiros passos com o R.\n",
        "\n",
        "### 1.2 R na nuvem\n",
        "\n",
        "- Rstudio cloud (precisa criar uma conta) [Link](https://rstudio.cloud/)\n",
        "- Google Colab [https://colab.to/r](https://colab.to/r) (precisa ter conta gmail)\n"
      ],
      "metadata": {
        "id": "9IlhkU7-ZhB8"
      }
    },
    {
      "cell_type": "markdown",
      "source": [
        "# 2. O Método Simplex\n",
        "\n",
        "Várias funções básicas vem já disponíveis no _pacote base_ do **R**. Contudo, para tarefas específicas precisaremos instalar pacotes específicos.\n",
        "\n",
        "> Um pacote no R é um módulo com funções e/ou _datasets_ desenhado para fazer tarefas específicas. Os pacotes são desenvolvidos por usuários da comunidade R no mundo para que possam ser utilizados por outros usuários da comunidade R.\n",
        "\n"
      ],
      "metadata": {
        "id": "XEyTZBpxaqkB"
      }
    },
    {
      "cell_type": "code",
      "source": [
        "# Instalando os pacotes boot e lpSolve\n",
        "install.packages(\"boot\")     # A estrutura é sempre install.packages(\"nome_do_pacote_entre_aspas\")\n",
        "install.packages(\"lpSolve\") "
      ],
      "metadata": {
        "colab": {
          "base_uri": "https://localhost:8080/"
        },
        "id": "FVZuLssDb44q",
        "outputId": "0c2ddace-957b-4df3-e67c-6e5e8f5f39a6"
      },
      "execution_count": 1,
      "outputs": [
        {
          "output_type": "stream",
          "name": "stderr",
          "text": [
            "Installing package into ‘/usr/local/lib/R/site-library’\n",
            "(as ‘lib’ is unspecified)\n",
            "\n",
            "Installing package into ‘/usr/local/lib/R/site-library’\n",
            "(as ‘lib’ is unspecified)\n",
            "\n"
          ]
        }
      ]
    },
    {
      "cell_type": "markdown",
      "source": [
        "A instalação do pacote é feita apenas uma única vez no computador, mas cada vez que formos utilizar o pacote precisamos chamá-los (carregá-los)."
      ],
      "metadata": {
        "id": "9kc-x5aTcmbd"
      }
    },
    {
      "cell_type": "code",
      "source": [
        "# Carregando pacotes\n",
        "library(boot)\n",
        "library(lpSolve)"
      ],
      "metadata": {
        "id": "vcW_edg3ct4a"
      },
      "execution_count": 2,
      "outputs": []
    },
    {
      "cell_type": "markdown",
      "source": [
        "Veremos duas opções para trabalhar com o método simplex no R:\n",
        "\n",
        "- A função `simplex()` do pacote `boot`.\n",
        "- A função `lp()` do pacote `lpSolve`.\n",
        "\n",
        "\n",
        "**Importante:** antes de entender como utilizar estas funções, precisamos primeiro escrever o modelo matemático na sua forma matricial.\n",
        "\n"
      ],
      "metadata": {
        "id": "XOQ2oB_Fc1w6"
      }
    },
    {
      "cell_type": "markdown",
      "source": [
        "Seja o problema de programação linear com $n$ variáveis de decisão:\n",
        "\n",
        "$$\\text{Max: } Z = c_1 X_1 + c_2 X_2 + \\cdots, c_n X_n,$$\n",
        "\n",
        "sujeito às restrições:\n",
        "\n",
        "\\begin{align}\n",
        "    & a_{11} X_1 + a_{12} X_2 + \\cdots + a_{1n} X_n \\leq b_1 \\\\\n",
        "    & a_{21} X_1 + a_{22} X_2 + \\cdots + a_{2n} X_n \\leq b_2 \\\\\n",
        "    & \\vdots \\quad \\quad \\quad \\quad \\quad    \\cdots  \\quad   \\quad \\quad  \\quad \\quad \\vdots \\\\\n",
        "    & a_{m1} X_1 + a_{m2} X_2 + \\cdots + a_{mn} X_n \\leq b_m \\\\\n",
        "\\end{align}\n",
        "\n",
        "e $X_i \\geq 0 \\quad \\forall i = 1, \\cdots, n.$"
      ],
      "metadata": {
        "id": "CDam42njdZqj"
      }
    },
    {
      "cell_type": "markdown",
      "source": [
        "Se fizermos: \n",
        "$$ X = \\left[ {\\begin{array}{cc}\n",
        "    X_1 \\\\\n",
        "    X_2 \\\\\n",
        "    \\vdots \\\\\n",
        "    X_n \\\\\n",
        "  \\end{array} } \\right] \\quad, \\quad A =\n",
        "  \\left[ {\\begin{array}{cc}\n",
        "    a_{11} & a_{12}  & \\cdots & a_{1n} \\\\\n",
        "    a_{21} & a_{22}  & \\cdots & a_{2n} \\\\\n",
        "    \\vdots &         & \\cdots  & \\vdots \\\\\n",
        "    a_{m1} & a_{m2}  & \\cdots & a_{mn} \\\\\n",
        "  \\end{array} } \\right] \\quad \\text{ e } \\quad b = \\left[ {\\begin{array}{cc}\n",
        "    b_{1} \\\\\n",
        "    b_{2} \\\\\n",
        "    \\vdots \\\\\n",
        "    b_{m} \\\\\n",
        "  \\end{array} } \\right],$$\n",
        "  em que $X$ é uma matriz de dimensão $n \\times 1$, $A$ é uma matriz de dimensão $m \\times n$ e $b$ é uma matriz de dimensão $m \\times 1$. Então,  as restrições funcionais na forma matricial seriam:\n",
        "\n",
        "  $$A X \\leq b$$\n",
        "\n",
        "  > Repare que como a matriz $A$ tem dimensão $m \\times n$ e a matrix $X$ tem dimensão $n \\times 1$, a multiplicação de matrices faz sentido e o resultado será uma matriz de dimensão $m \\times 1$ (que coincide com a dimensão da matriz $b$).\n",
        "\n"
      ],
      "metadata": {
        "id": "9iAishMYfRfY"
      }
    },
    {
      "cell_type": "markdown",
      "source": [
        "### Exemplo:\n",
        "\n",
        "Consideremos o seguinte problema (Caso 0: vidros UFRJ). \n",
        "\n",
        "$$\\text{Max: } Z = 3 X_1 + 5 X_2,$$\n",
        "\n",
        "sujeito às restrições\n",
        "\n",
        "\\begin{align}\n",
        "    & X_1 & \\leq 4 \\\\\n",
        "    &  X_2 & \\leq 6 \\\\\n",
        "    & 3X_1 + 2X_2 & \\leq 18 \\\\\n",
        "\\end{align}\n",
        "\n",
        "e $X_1, X_2 \\geq 0.$\n",
        "\n",
        "Na forma matricial temos:\n",
        "\n",
        "\n",
        "$$ X= \\left[ {\\begin{array}{cc}\n",
        "    X_1  \\\\\n",
        "    X_2  \\\\\n",
        "  \\end{array} } \\right] \\text{,} \\quad A =\n",
        "  \\left[ {\\begin{array}{cc}\n",
        "    1 & 0  \\\\\n",
        "    0 & 1 \\\\\n",
        "    3 & 2 \\\\\n",
        "  \\end{array} } \\right] \\quad \\text{ e } \\quad b = \\left[ {\\begin{array}{cc}\n",
        "    4  \\\\\n",
        "    6  \\\\\n",
        "    18 \\\\\n",
        "  \\end{array} } \\right].$$\n",
        "\n",
        "  Assim, a restrição funcional é simplesmente $AX \\leq b.$"
      ],
      "metadata": {
        "id": "dd9_qltBjlh5"
      }
    },
    {
      "cell_type": "code",
      "source": [
        "C = c(3, 5)  # vetor com os coeficientes da função objetivo\n",
        "A = matrix(c(1, 0, 3, 0, 1, 2), ncol = 2)   # preencher coluna a coluna\n",
        "b = c(4, 6 , 18) # vetor com os 'lados direitos' das restrições funcionais"
      ],
      "metadata": {
        "id": "MfKAjF_KmW4L"
      },
      "execution_count": 3,
      "outputs": []
    },
    {
      "cell_type": "markdown",
      "source": [
        "**Observação:** a letra `c` em minúscula é utilizado no R para definir vetores, por isso estou utilizando `C` em maiúscula para assim evitar confussão."
      ],
      "metadata": {
        "id": "tql918xhwHJt"
      }
    },
    {
      "cell_type": "code",
      "source": [
        "C    # Para 'printar' o que está no objeto criado C"
      ],
      "metadata": {
        "colab": {
          "base_uri": "https://localhost:8080/",
          "height": 34
        },
        "id": "Tkq55AuYm7p5",
        "outputId": "d215c2ea-ebcb-41e6-dc2c-ac931fb41ae2"
      },
      "execution_count": 4,
      "outputs": [
        {
          "output_type": "display_data",
          "data": {
            "text/html": [
              "<style>\n",
              ".list-inline {list-style: none; margin:0; padding: 0}\n",
              ".list-inline>li {display: inline-block}\n",
              ".list-inline>li:not(:last-child)::after {content: \"\\00b7\"; padding: 0 .5ex}\n",
              "</style>\n",
              "<ol class=list-inline><li>3</li><li>5</li></ol>\n"
            ],
            "text/markdown": "1. 3\n2. 5\n\n\n",
            "text/latex": "\\begin{enumerate*}\n\\item 3\n\\item 5\n\\end{enumerate*}\n",
            "text/plain": [
              "[1] 3 5"
            ]
          },
          "metadata": {}
        }
      ]
    },
    {
      "cell_type": "code",
      "source": [
        "A   # Para 'printar' o que está no objeto criado A"
      ],
      "metadata": {
        "colab": {
          "base_uri": "https://localhost:8080/",
          "height": 198
        },
        "id": "TmYEqmcNmtrc",
        "outputId": "d2242d99-c627-4c37-fe4a-5b3080f02c42"
      },
      "execution_count": 5,
      "outputs": [
        {
          "output_type": "display_data",
          "data": {
            "text/html": [
              "<table class=\"dataframe\">\n",
              "<caption>A matrix: 3 × 2 of type dbl</caption>\n",
              "<tbody>\n",
              "\t<tr><td>1</td><td>0</td></tr>\n",
              "\t<tr><td>0</td><td>1</td></tr>\n",
              "\t<tr><td>3</td><td>2</td></tr>\n",
              "</tbody>\n",
              "</table>\n"
            ],
            "text/markdown": "\nA matrix: 3 × 2 of type dbl\n\n| 1 | 0 |\n| 0 | 1 |\n| 3 | 2 |\n\n",
            "text/latex": "A matrix: 3 × 2 of type dbl\n\\begin{tabular}{ll}\n\t 1 & 0\\\\\n\t 0 & 1\\\\\n\t 3 & 2\\\\\n\\end{tabular}\n",
            "text/plain": [
              "     [,1] [,2]\n",
              "[1,] 1    0   \n",
              "[2,] 0    1   \n",
              "[3,] 3    2   "
            ]
          },
          "metadata": {}
        }
      ]
    },
    {
      "cell_type": "code",
      "source": [
        "b   # Para 'printar' o que está no objeto criado b"
      ],
      "metadata": {
        "colab": {
          "base_uri": "https://localhost:8080/",
          "height": 34
        },
        "id": "rQ9wLiD5m5ZW",
        "outputId": "749f6ba1-10bc-4560-efe7-7c4e69cf5020"
      },
      "execution_count": 6,
      "outputs": [
        {
          "output_type": "display_data",
          "data": {
            "text/html": [
              "<style>\n",
              ".list-inline {list-style: none; margin:0; padding: 0}\n",
              ".list-inline>li {display: inline-block}\n",
              ".list-inline>li:not(:last-child)::after {content: \"\\00b7\"; padding: 0 .5ex}\n",
              "</style>\n",
              "<ol class=list-inline><li>4</li><li>6</li><li>18</li></ol>\n"
            ],
            "text/markdown": "1. 4\n2. 6\n3. 18\n\n\n",
            "text/latex": "\\begin{enumerate*}\n\\item 4\n\\item 6\n\\item 18\n\\end{enumerate*}\n",
            "text/plain": [
              "[1]  4  6 18"
            ]
          },
          "metadata": {}
        }
      ]
    },
    {
      "cell_type": "markdown",
      "source": [
        "#### Método 1: função simplex() do pacote boot"
      ],
      "metadata": {
        "id": "dzUVQA1Zr9lj"
      }
    },
    {
      "cell_type": "code",
      "source": [
        "simplex_metodo_1 = simplex(C, A, b, maxi = TRUE)"
      ],
      "metadata": {
        "id": "6GQbTcUknOpn"
      },
      "execution_count": 7,
      "outputs": []
    },
    {
      "cell_type": "code",
      "source": [
        "# Para visualisar o resultado inteiro que foi salvo em simplex_metodo_1\n",
        "simplex_metodo_1"
      ],
      "metadata": {
        "colab": {
          "base_uri": "https://localhost:8080/",
          "height": 274
        },
        "id": "W5ZE9udspudG",
        "outputId": "fc7c39b7-ead2-4504-d2c9-37ee9f0f524b"
      },
      "execution_count": 8,
      "outputs": [
        {
          "output_type": "display_data",
          "data": {
            "text/plain": [
              "\n",
              "Linear Programming Results\n",
              "\n",
              "Call : simplex(a = C, A1 = A, b1 = b, maxi = TRUE)\n",
              "\n",
              "Maximization Problem with Objective Function Coefficients\n",
              "x1 x2 \n",
              " 3  5 \n",
              "\n",
              "\n",
              "Optimal solution has the following values\n",
              "x1 x2 \n",
              " 2  6 \n",
              "The optimal value of the objective  function is 36."
            ]
          },
          "metadata": {}
        }
      ]
    },
    {
      "cell_type": "code",
      "source": [
        "# Para visualisar apenas a solução ótima\n",
        "simplex_metodo_1$soln"
      ],
      "metadata": {
        "colab": {
          "base_uri": "https://localhost:8080/",
          "height": 34
        },
        "id": "1CCKGqV8p1BB",
        "outputId": "bae3e252-f7e4-4c9a-8762-fbcc20af0b72"
      },
      "execution_count": 9,
      "outputs": [
        {
          "output_type": "display_data",
          "data": {
            "text/html": [
              "<style>\n",
              ".dl-inline {width: auto; margin:0; padding: 0}\n",
              ".dl-inline>dt, .dl-inline>dd {float: none; width: auto; display: inline-block}\n",
              ".dl-inline>dt::after {content: \":\\0020\"; padding-right: .5ex}\n",
              ".dl-inline>dt:not(:first-of-type) {padding-left: .5ex}\n",
              "</style><dl class=dl-inline><dt>x1</dt><dd>2</dd><dt>x2</dt><dd>6</dd></dl>\n"
            ],
            "text/markdown": "x1\n:   2x2\n:   6\n\n",
            "text/latex": "\\begin{description*}\n\\item[x1] 2\n\\item[x2] 6\n\\end{description*}\n",
            "text/plain": [
              "x1 x2 \n",
              " 2  6 "
            ]
          },
          "metadata": {}
        }
      ]
    },
    {
      "cell_type": "markdown",
      "source": [
        "> A função `simplex()` otimiza a função $Z = c_1 X_1 + c_2 X_2 + \\cdots c_n X_n$ sujeito às restrições:\n",
        "\n",
        "- $AX \\leq b,$\n",
        "- $X \\geq 0$\n",
        "\n",
        "Tanto maximização (`maxi = TRUE`) como minimização (`maxi = FALSE`) são permitidos."
      ],
      "metadata": {
        "id": "UqVg6LASv6DQ"
      }
    },
    {
      "cell_type": "markdown",
      "source": [
        "#### Método 2: função lp() do pacote lpSolve"
      ],
      "metadata": {
        "id": "BjfkciS2sI0J"
      }
    },
    {
      "cell_type": "code",
      "source": [
        "simplex_metodo_2 = lp(\"max\", C, A, rep(\"<=\",3), b)"
      ],
      "metadata": {
        "id": "8mPkgMsrsRVa"
      },
      "execution_count": 10,
      "outputs": []
    },
    {
      "cell_type": "code",
      "source": [
        "simplex_metodo_2$solution"
      ],
      "metadata": {
        "colab": {
          "base_uri": "https://localhost:8080/",
          "height": 34
        },
        "id": "d3Cg_3R6sgoy",
        "outputId": "bdd378f1-b203-432a-9650-8d8d1469482b"
      },
      "execution_count": 11,
      "outputs": [
        {
          "output_type": "display_data",
          "data": {
            "text/html": [
              "<style>\n",
              ".list-inline {list-style: none; margin:0; padding: 0}\n",
              ".list-inline>li {display: inline-block}\n",
              ".list-inline>li:not(:last-child)::after {content: \"\\00b7\"; padding: 0 .5ex}\n",
              "</style>\n",
              "<ol class=list-inline><li>2</li><li>6</li></ol>\n"
            ],
            "text/markdown": "1. 2\n2. 6\n\n\n",
            "text/latex": "\\begin{enumerate*}\n\\item 2\n\\item 6\n\\end{enumerate*}\n",
            "text/plain": [
              "[1] 2 6"
            ]
          },
          "metadata": {}
        }
      ]
    },
    {
      "cell_type": "markdown",
      "source": [
        "**Observação:** o quarto argumento na função `lp()`permite especificar explicatamente a direção da restrição, sendo permitido opções como `=, >, <, >=, <=`."
      ],
      "metadata": {
        "id": "ujPJYZ87xF4B"
      }
    },
    {
      "cell_type": "markdown",
      "source": [
        "Repare que cada função tem uma forma diferente de incluir os dados e fornecer os resultados. Quando utilizamos uma função com frequência já estamos acostumados em como introduzir os dados na função, mas muitas vezes isto é completamente desconhecido para nós. Nesses casos, basta \"perguntar ao R\" como utilizar a função através do comando `help(nome_da_função)` ou `?nome_da_função`."
      ],
      "metadata": {
        "id": "UlBlN-2exrgQ"
      }
    }
  ]
}