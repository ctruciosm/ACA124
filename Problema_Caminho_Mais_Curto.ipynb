{
  "cells": [
    {
      "cell_type": "markdown",
      "metadata": {
        "id": "view-in-github",
        "colab_type": "text"
      },
      "source": [
        "<a href=\"https://colab.research.google.com/github/ctruciosm/ACA124/blob/main/Problema_Caminho_Mais_Curto.ipynb\" target=\"_parent\"><img src=\"https://colab.research.google.com/assets/colab-badge.svg\" alt=\"Open In Colab\"/></a>"
      ]
    },
    {
      "cell_type": "markdown",
      "metadata": {
        "id": "PlAYvPt_DqWo"
      },
      "source": [
        "# Problema do Caminho mais Curto"
      ]
    },
    {
      "cell_type": "markdown",
      "metadata": {
        "id": "PDmcNj7PDuhY"
      },
      "source": [
        "- Considere uma rede conectada e não direcionada com um nó de origem e um nó escoadouro.\n",
        "- Considere também que os arcos representam a distância entre dois nós\n",
        "- O objetivo do **problema do caminho mais curto** (ou **problema do menor caminho**) é encontrar o caminho da origem até o escoadouro que tenha a menor distância."
      ]
    },
    {
      "cell_type": "markdown",
      "metadata": {
        "id": "Uf7_6Mvi71xa"
      },
      "source": [
        "## Caso de estudo:\n",
        "\n",
        "O \"Mercado Free\" deve entregar uma grande quantidade de produtos na cidade de _Tangamandapio_ (cidade 6). O Deposito com todos os produtos necessários para envío esta localizado na cidade de _Huacho_ (cidade 1). \"Mercado Free\" quer saber qual o caminho que o caminhão deve fazer para minimizar a distância total percorrida. O mapa rodoviário da região junto com as distâncias é apresentado a seguir."
      ]
    },
    {
      "cell_type": "markdown",
      "metadata": {
        "id": "FcJAL6Re9U6B"
      },
      "source": [
        "![](https://raw.githubusercontent.com/ctruciosm/ACA124/main/tangamandapio.png)"
      ]
    },
    {
      "cell_type": "markdown",
      "metadata": {
        "id": "4KmicZgJAJh-"
      },
      "source": [
        "As variáveis de decisão serão $X_{ij}$ indicando o trecho da cidade $i$ para a cidade $j$. Se o valor for 1, significa que esse trecho deve ser percorrido, se for 0, significa que esse trecho não deve ser percorrido. Assim, o problema a ser resolvido pode ser escrito como:\n",
        "\n",
        "$$\\text{Min. } \\quad Z = 41 X_{12} + 44 X_{13} + 50X_{15} + 37 X_{24} + 27X_{35} + 45 X_{46} + 4X_{56},$$\n",
        "\n",
        "sujeito às restrições:\n",
        "\n",
        "- $X_{12} + X_{13} + X_{15} = 1,$ (nó 1)\n",
        "- $X_{12} - X_{24} = 0,$  (nó 2)\n",
        "- $X_{13} - X_{35} = 0,$  (nó 3)\n",
        "- $X_{24} - X_{46} = 0,$  (nó 4)\n",
        "- $X_{15} + X_{35} - X_{56} = 0,$  (nó 5)\n",
        "- $X_{46} + X_{56} = 1.$  (nó 6)"
      ]
    },
    {
      "cell_type": "code",
      "execution_count": 1,
      "metadata": {
        "colab": {
          "base_uri": "https://localhost:8080/",
          "height": 191
        },
        "id": "iv988NyHD8dM",
        "outputId": "404dcbf6-b6e5-436f-f09e-8464fbbfeadc"
      },
      "outputs": [
        {
          "output_type": "display_data",
          "data": {
            "text/html": [
              "<table class=\"dataframe\">\n",
              "<caption>A matrix: 5 × 7 of type dbl</caption>\n",
              "<tbody>\n",
              "\t<tr><td>1</td><td>1</td><td>1</td><td> 0</td><td> 0</td><td>0</td><td> 0</td></tr>\n",
              "\t<tr><td>1</td><td>0</td><td>0</td><td>-1</td><td> 0</td><td>0</td><td> 0</td></tr>\n",
              "\t<tr><td>0</td><td>1</td><td>0</td><td> 0</td><td>-1</td><td>0</td><td> 0</td></tr>\n",
              "\t<tr><td>0</td><td>0</td><td>1</td><td> 0</td><td> 1</td><td>0</td><td>-1</td></tr>\n",
              "\t<tr><td>0</td><td>0</td><td>0</td><td> 0</td><td> 0</td><td>1</td><td> 1</td></tr>\n",
              "</tbody>\n",
              "</table>\n"
            ],
            "text/markdown": "\nA matrix: 5 × 7 of type dbl\n\n| 1 | 1 | 1 |  0 |  0 | 0 |  0 |\n| 1 | 0 | 0 | -1 |  0 | 0 |  0 |\n| 0 | 1 | 0 |  0 | -1 | 0 |  0 |\n| 0 | 0 | 1 |  0 |  1 | 0 | -1 |\n| 0 | 0 | 0 |  0 |  0 | 1 |  1 |\n\n",
            "text/latex": "A matrix: 5 × 7 of type dbl\n\\begin{tabular}{lllllll}\n\t 1 & 1 & 1 &  0 &  0 & 0 &  0\\\\\n\t 1 & 0 & 0 & -1 &  0 & 0 &  0\\\\\n\t 0 & 1 & 0 &  0 & -1 & 0 &  0\\\\\n\t 0 & 0 & 1 &  0 &  1 & 0 & -1\\\\\n\t 0 & 0 & 0 &  0 &  0 & 1 &  1\\\\\n\\end{tabular}\n",
            "text/plain": [
              "     [,1] [,2] [,3] [,4] [,5] [,6] [,7]\n",
              "[1,] 1    1    1     0    0   0     0  \n",
              "[2,] 1    0    0    -1    0   0     0  \n",
              "[3,] 0    1    0     0   -1   0     0  \n",
              "[4,] 0    0    1     0    1   0    -1  \n",
              "[5,] 0    0    0     0    0   1     1  "
            ]
          },
          "metadata": {}
        }
      ],
      "source": [
        "C = c(41, 44, 50, 37, 27, 45, 4)\n",
        "b = c(1, 0, 0, 0, 1)\n",
        "A = matrix(c(1, 1, 1, 0, 0, 0, 0, \n",
        "             1, 0, 0, -1, 0, 0, 0, \n",
        "             0, 1, 0, 0, -1, 0, 0, \n",
        "             0, 0, 1, 0, 1, 0, -1, \n",
        "             0, 0, 0, 0, 0, 1, 1), ncol = 7, byrow = TRUE)\n",
        "A"
      ]
    },
    {
      "cell_type": "code",
      "execution_count": 2,
      "metadata": {
        "colab": {
          "base_uri": "https://localhost:8080/"
        },
        "id": "DQNPCnQ2FXFi",
        "outputId": "322a46f9-5c98-43dd-9bf6-b4f4cac0c4a7"
      },
      "outputs": [
        {
          "output_type": "stream",
          "name": "stderr",
          "text": [
            "Installing package into ‘/usr/local/lib/R/site-library’\n",
            "(as ‘lib’ is unspecified)\n",
            "\n"
          ]
        }
      ],
      "source": [
        "install.packages(\"lpSolve\")"
      ]
    },
    {
      "cell_type": "code",
      "execution_count": 3,
      "metadata": {
        "colab": {
          "base_uri": "https://localhost:8080/",
          "height": 53
        },
        "id": "fQ5RIiTJFafi",
        "outputId": "2e9a3db7-f77f-40ec-de7e-14ef08731126"
      },
      "outputs": [
        {
          "output_type": "display_data",
          "data": {
            "text/html": [
              "<style>\n",
              ".list-inline {list-style: none; margin:0; padding: 0}\n",
              ".list-inline>li {display: inline-block}\n",
              ".list-inline>li:not(:last-child)::after {content: \"\\00b7\"; padding: 0 .5ex}\n",
              "</style>\n",
              "<ol class=list-inline><li>0</li><li>0</li><li>1</li><li>0</li><li>0</li><li>0</li><li>1</li></ol>\n"
            ],
            "text/markdown": "1. 0\n2. 0\n3. 1\n4. 0\n5. 0\n6. 0\n7. 1\n\n\n",
            "text/latex": "\\begin{enumerate*}\n\\item 0\n\\item 0\n\\item 1\n\\item 0\n\\item 0\n\\item 0\n\\item 1\n\\end{enumerate*}\n",
            "text/plain": [
              "[1] 0 0 1 0 0 0 1"
            ]
          },
          "metadata": {}
        },
        {
          "output_type": "display_data",
          "data": {
            "text/plain": [
              "Success: the objective function is 54 "
            ]
          },
          "metadata": {}
        }
      ],
      "source": [
        "library(lpSolve)\n",
        "resultado = lp(\"min\", C, A, rep(\"=\",5), b)\n",
        "resultado$solution\n",
        "resultado"
      ]
    },
    {
      "cell_type": "markdown",
      "metadata": {
        "id": "9Xqy_xZ-WnuN"
      },
      "source": [
        "## Algoritmo alternativo\n",
        "\n",
        "Embora o método simplex seja capaz de resolver o problema, escrever as restrições funcionáis pode não ser tão simples. Um outro algoritmo, bastante intuitivo e simples (contudo, computacionalmente mais caro) poderia também ser utilizado.\n",
        "\n",
        "Suponhamos que para algum $n$ ($n= 1, 2, \\cdots $), conhecemos quais os  $n-1$ nós perto da origem com menor distância.\n",
        "\n",
        "- **Objetivo:** Encontrar o nó mais próximos da origem.\n",
        "- **Parâmetros de entrada:** $n-1$ nós mais próximo da origem (obtidos nos passos anteriores). Esses nós recebem o nome de **nós solucionados**, os demais são chamados de nós não solucionados.\n",
        "- **Candidatos para nó mais próximo:** Cada nó solucionado  (que é conectado diretamente por um arco a um ou mais nós não solucionados) fornece um candidato (o nó não solucionado com o ligação mais curta).\n",
        "- **Cálculo do nó mais próximo:** Para cada nó solucionado e seu candidato, acrescente a dist[ancia entre eles e a distância do caminho mais curto da origem até esse nó solucionado. O candidato com menor distância total é o $n$-ésimo nó mais próximo "
      ]
    },
    {
      "cell_type": "markdown",
      "metadata": {
        "id": "jfPl1v1PSlb_"
      },
      "source": [
        "| n | Nós solucionados  | Nó candidato  | Distância Total | N-ésimo nó mais perto| Distância mínima | última conexao |\n",
        "|:---:|:----------------:|:---------:|:----------:|:----------:|:----------:|:-----------:|\n",
        "| 1 |   1     |   2      | 41km  | 2  | 41km  | \"12\" |\n",
        "| 2 |  1, 2   | 3, 4     | 44km, 78km  | 3 | 44km | \"13\" |\n",
        "| 3 | 1, 2, 3 | 5, 4, 5  | 50km, 78km, 71km  | 5 | 50km | \"15\" |\n",
        "| 4 | 2, 5    | 4, 6     | 78km, 54km | 6 | 54km | \"56\" |\n",
        "\n",
        "\n",
        "Caminho: 1 --> 5 --> 6\n",
        "\n",
        "## R\n"
      ]
    },
    {
      "cell_type": "code",
      "execution_count": 4,
      "metadata": {
        "colab": {
          "base_uri": "https://localhost:8080/"
        },
        "id": "4h3NJTpuohjI",
        "outputId": "5e6ba6e2-131b-4fb6-b612-5154b59d1db1"
      },
      "outputs": [
        {
          "output_type": "stream",
          "name": "stderr",
          "text": [
            "Installing package into ‘/usr/local/lib/R/site-library’\n",
            "(as ‘lib’ is unspecified)\n",
            "\n"
          ]
        }
      ],
      "source": [
        "install.packages(\"igraph\")"
      ]
    },
    {
      "cell_type": "code",
      "execution_count": 5,
      "metadata": {
        "colab": {
          "base_uri": "https://localhost:8080/",
          "height": 575
        },
        "id": "uLJMdSIxT-L4",
        "outputId": "a324e73e-2ed8-498b-b485-10f3a9b618e0"
      },
      "outputs": [
        {
          "output_type": "stream",
          "name": "stderr",
          "text": [
            "\n",
            "Attaching package: ‘igraph’\n",
            "\n",
            "\n",
            "The following objects are masked from ‘package:stats’:\n",
            "\n",
            "    decompose, spectrum\n",
            "\n",
            "\n",
            "The following object is masked from ‘package:base’:\n",
            "\n",
            "    union\n",
            "\n",
            "\n"
          ]
        },
        {
          "output_type": "display_data",
          "data": {
            "text/html": [
              "<table class=\"dataframe\">\n",
              "<caption>A data.frame: 7 × 3</caption>\n",
              "<thead>\n",
              "\t<tr><th scope=col>from</th><th scope=col>to</th><th scope=col>weight</th></tr>\n",
              "\t<tr><th scope=col>&lt;chr&gt;</th><th scope=col>&lt;chr&gt;</th><th scope=col>&lt;chr&gt;</th></tr>\n",
              "</thead>\n",
              "<tbody>\n",
              "\t<tr><td>1</td><td>2</td><td>41</td></tr>\n",
              "\t<tr><td>1</td><td>5</td><td>50</td></tr>\n",
              "\t<tr><td>1</td><td>3</td><td>44</td></tr>\n",
              "\t<tr><td>3</td><td>5</td><td>27</td></tr>\n",
              "\t<tr><td>2</td><td>4</td><td>37</td></tr>\n",
              "\t<tr><td>5</td><td>6</td><td>4 </td></tr>\n",
              "\t<tr><td>4</td><td>6</td><td>45</td></tr>\n",
              "</tbody>\n",
              "</table>\n"
            ],
            "text/markdown": "\nA data.frame: 7 × 3\n\n| from &lt;chr&gt; | to &lt;chr&gt; | weight &lt;chr&gt; |\n|---|---|---|\n| 1 | 2 | 41 |\n| 1 | 5 | 50 |\n| 1 | 3 | 44 |\n| 3 | 5 | 27 |\n| 2 | 4 | 37 |\n| 5 | 6 | 4  |\n| 4 | 6 | 45 |\n\n",
            "text/latex": "A data.frame: 7 × 3\n\\begin{tabular}{lll}\n from & to & weight\\\\\n <chr> & <chr> & <chr>\\\\\n\\hline\n\t 1 & 2 & 41\\\\\n\t 1 & 5 & 50\\\\\n\t 1 & 3 & 44\\\\\n\t 3 & 5 & 27\\\\\n\t 2 & 4 & 37\\\\\n\t 5 & 6 & 4 \\\\\n\t 4 & 6 & 45\\\\\n\\end{tabular}\n",
            "text/plain": [
              "  from to weight\n",
              "1 1    2  41    \n",
              "2 1    5  50    \n",
              "3 1    3  44    \n",
              "4 3    5  27    \n",
              "5 2    4  37    \n",
              "6 5    6  4     \n",
              "7 4    6  45    "
            ]
          },
          "metadata": {}
        }
      ],
      "source": [
        "library(igraph)\n",
        "# Escrevemos as distâncias entre os nós\n",
        "E = rbind(c(\"1\", \"2\", 41), \n",
        "          c(\"1\", \"5\", 50), \n",
        "          c(\"1\", \"3\", 44), \n",
        "          c(\"3\", \"5\", 27),\n",
        "          c(\"2\", \"4\", 37),\n",
        "          c(\"5\", \"6\", 4),\n",
        "          c(\"4\", \"6\", 45))\n",
        "colnames(E) = c(\"from\", \"to\", \"weight\")  # \"weight\" é o único nome que deve aparecer exatamente como escrito aqui. Weights serao as distancias no nosso caso.\n",
        "rede = data.frame(E)\n",
        "rede"
      ]
    },
    {
      "cell_type": "code",
      "execution_count": 6,
      "metadata": {
        "colab": {
          "base_uri": "https://localhost:8080/",
          "height": 437
        },
        "id": "2Cf-BpZYV3Av",
        "outputId": "4315cd27-5d2f-4b3c-f81b-dff8316f6957"
      },
      "outputs": [
        {
          "output_type": "display_data",
          "data": {
            "text/plain": [
              "Plot with title “”"
            ],
            "image/png": "[encoded data removed]"
          },
          "metadata": {
            "image/png": {
              "width": 420,
              "height": 420
            }
          }
        }
      ],
      "source": [
        "g = graph_from_data_frame(rede)\n",
        "plot(g)"
      ]
    },
    {
      "cell_type": "code",
      "execution_count": 7,
      "metadata": {
        "colab": {
          "base_uri": "https://localhost:8080/",
          "height": 72
        },
        "id": "Bs8ht2luWDLX",
        "outputId": "b4ca3121-d3fb-4a80-9a15-4ed6a10226dd"
      },
      "outputs": [
        {
          "output_type": "display_data",
          "data": {
            "text/plain": [
              "[[1]]\n",
              "+ 3/6 vertices, named, from 0ca8c4a:\n",
              "[1] 1 5 6\n"
            ]
          },
          "metadata": {}
        }
      ],
      "source": [
        "resultados = get.shortest.paths(g, from = V(g)[\"1\"], to = V(g)[\"6\"])\n",
        "resultados$vpath"
      ]
    },
    {
      "cell_type": "code",
      "execution_count": 8,
      "metadata": {
        "colab": {
          "base_uri": "https://localhost:8080/",
          "height": 150
        },
        "id": "naH6Z-2VWI6a",
        "outputId": "e4018f10-6fd9-480a-df9d-7d007d1aa26c"
      },
      "outputs": [
        {
          "output_type": "display_data",
          "data": {
            "text/html": [
              "<table class=\"dataframe\">\n",
              "<caption>A matrix: 1 × 1 of type dbl</caption>\n",
              "<thead>\n",
              "\t<tr><th></th><th scope=col>6</th></tr>\n",
              "</thead>\n",
              "<tbody>\n",
              "\t<tr><th scope=row>1</th><td>54</td></tr>\n",
              "</tbody>\n",
              "</table>\n"
            ],
            "text/markdown": "\nA matrix: 1 × 1 of type dbl\n\n| <!--/--> | 6 |\n|---|---|\n| 1 | 54 |\n\n",
            "text/latex": "A matrix: 1 × 1 of type dbl\n\\begin{tabular}{r|l}\n  & 6\\\\\n\\hline\n\t1 & 54\\\\\n\\end{tabular}\n",
            "text/plain": [
              "  6 \n",
              "1 54"
            ]
          },
          "metadata": {}
        }
      ],
      "source": [
        "distances(g, v = V(g)[\"1\"], to = V(g)[\"6\"])"
      ]
    },
    {
      "cell_type": "markdown",
      "metadata": {
        "id": "upKDImd0WXp9"
      },
      "source": [
        "> Se for utilizar o método simplex, precisa escrever corretamente o modelo matemático (função objetivo e restrições funcionais) o que pode não ser tão trivial. Se for utilizar o algoritmo alternativo, deve se atentar a escrever corretamente as conexões entre os nós (o que requer bastante cuidado e atenção)."
      ]
    },
    {
      "cell_type": "code",
      "execution_count": 9,
      "metadata": {
        "colab": {
          "base_uri": "https://localhost:8080/",
          "height": 492
        },
        "id": "lkJ0Y_qQYwzO",
        "outputId": "7d59a481-0a4c-4990-89ef-5d1921c50561"
      },
      "outputs": [
        {
          "output_type": "stream",
          "name": "stderr",
          "text": [
            "Installing package into ‘/usr/local/lib/R/site-library’\n",
            "(as ‘lib’ is unspecified)\n",
            "\n"
          ]
        },
        {
          "output_type": "display_data",
          "data": {
            "text/plain": [
              "plot without title"
            ],
            "image/png": "[encoded data removed]"
          },
          "metadata": {
            "image/png": {
              "width": 420,
              "height": 420
            }
          }
        }
      ],
      "source": [
        "install.packages(\"microbenchmark\")\n",
        "library(microbenchmark)\n",
        "comparar = microbenchmark(simplex = lp(\"min\", C, A, rep(\"=\",5), b),\n",
        "                          alternativo = get.shortest.paths(g, from = V(g)[\"1\"], to = V(g)[\"6\"]),\n",
        "                          times = 1000L) \n",
        "boxplot(comparar)\n"
      ]
    },
    {
      "cell_type": "markdown",
      "metadata": {
        "id": "dSn-KmvUYy9D"
      },
      "source": [
        "## Caso de estudo 2:\n",
        "\n",
        "A administração de um parque temático precisa encontrar o caminho mais curto da entrada do parque (nó \"O\") até a vista panorâmica (nó \"T\") através de um sistema viário (ver Figura). Utilizaremos o algoritmo anterior para entender como obter o caminho mais curto."
      ]
    },
    {
      "cell_type": "markdown",
      "metadata": {
        "id": "LDJE_Nu8d8No"
      },
      "source": [
        "![](https://raw.githubusercontent.com/ctruciosm/ACA124/main/caminho_curto.png)"
      ]
    },
    {
      "cell_type": "markdown",
      "metadata": {
        "id": "f4KNZq37e-Ri"
      },
      "source": [
        "| n | Nós solucionados  | Nó candidato  | Distância Total | N-ésimo nó mais perto| Distância mínima | última conexao |\n",
        "|:---:|:----------------:|:---------:|:----------:|:----------:|:----------:|:-----------:|\n",
        "| 1  |   O    |   A  | 2  | A  | 2  | OA |\n",
        "| 2,3 |  O, A | C, B  | 4, 4  | C, B, | 4, 4 | OC, AB |\n",
        "| 4  | A, B, C | D, E, E  | 9, 7, 8  | E | 7 | BE |\n",
        "|  5 | A, B, E | D, D, D | 9, 8, 8 | D, D | 8, 8 |BD, ED|\n",
        "| 6 | D, E | T, T | 13, 14 | T | 13 | DT\n",
        "\n"
      ]
    },
    {
      "cell_type": "markdown",
      "metadata": {
        "id": "_QDeHuR6nmyw"
      },
      "source": [
        "## R"
      ]
    },
    {
      "cell_type": "code",
      "execution_count": 10,
      "metadata": {
        "colab": {
          "base_uri": "https://localhost:8080/",
          "height": 443
        },
        "id": "_kFSMrGinnyg",
        "outputId": "96a0b37e-b149-419d-bdbd-ae134afa2261"
      },
      "outputs": [
        {
          "output_type": "display_data",
          "data": {
            "text/html": [
              "<table class=\"dataframe\">\n",
              "<caption>A data.frame: 11 × 3</caption>\n",
              "<thead>\n",
              "\t<tr><th scope=col>from</th><th scope=col>to</th><th scope=col>weight</th></tr>\n",
              "\t<tr><th scope=col>&lt;chr&gt;</th><th scope=col>&lt;chr&gt;</th><th scope=col>&lt;chr&gt;</th></tr>\n",
              "</thead>\n",
              "<tbody>\n",
              "\t<tr><td>O</td><td>A</td><td>2</td></tr>\n",
              "\t<tr><td>O</td><td>B</td><td>5</td></tr>\n",
              "\t<tr><td>O</td><td>C</td><td>4</td></tr>\n",
              "\t<tr><td>A</td><td>D</td><td>7</td></tr>\n",
              "\t<tr><td>A</td><td>B</td><td>2</td></tr>\n",
              "\t<tr><td>B</td><td>E</td><td>3</td></tr>\n",
              "\t<tr><td>B</td><td>D</td><td>4</td></tr>\n",
              "\t<tr><td>C</td><td>B</td><td>1</td></tr>\n",
              "\t<tr><td>C</td><td>E</td><td>4</td></tr>\n",
              "\t<tr><td>D</td><td>T</td><td>5</td></tr>\n",
              "\t<tr><td>E</td><td>T</td><td>7</td></tr>\n",
              "</tbody>\n",
              "</table>\n"
            ],
            "text/markdown": "\nA data.frame: 11 × 3\n\n| from &lt;chr&gt; | to &lt;chr&gt; | weight &lt;chr&gt; |\n|---|---|---|\n| O | A | 2 |\n| O | B | 5 |\n| O | C | 4 |\n| A | D | 7 |\n| A | B | 2 |\n| B | E | 3 |\n| B | D | 4 |\n| C | B | 1 |\n| C | E | 4 |\n| D | T | 5 |\n| E | T | 7 |\n\n",
            "text/latex": "A data.frame: 11 × 3\n\\begin{tabular}{lll}\n from & to & weight\\\\\n <chr> & <chr> & <chr>\\\\\n\\hline\n\t O & A & 2\\\\\n\t O & B & 5\\\\\n\t O & C & 4\\\\\n\t A & D & 7\\\\\n\t A & B & 2\\\\\n\t B & E & 3\\\\\n\t B & D & 4\\\\\n\t C & B & 1\\\\\n\t C & E & 4\\\\\n\t D & T & 5\\\\\n\t E & T & 7\\\\\n\\end{tabular}\n",
            "text/plain": [
              "   from to weight\n",
              "1  O    A  2     \n",
              "2  O    B  5     \n",
              "3  O    C  4     \n",
              "4  A    D  7     \n",
              "5  A    B  2     \n",
              "6  B    E  3     \n",
              "7  B    D  4     \n",
              "8  C    B  1     \n",
              "9  C    E  4     \n",
              "10 D    T  5     \n",
              "11 E    T  7     "
            ]
          },
          "metadata": {}
        }
      ],
      "source": [
        "library(igraph)\n",
        "# Escrevemos as distâncias entre os nós\n",
        "E = rbind(c(\"O\", \"A\", 2), \n",
        "          c(\"O\", \"B\", 5), \n",
        "          c(\"O\", \"C\", 4), \n",
        "          c(\"A\", \"D\", 7),\n",
        "          c(\"A\", \"B\", 2),\n",
        "          c(\"B\", \"E\", 3),\n",
        "          c(\"B\", \"D\", 4),\n",
        "          c(\"C\", \"B\", 1),\n",
        "          c(\"C\", \"E\", 4),\n",
        "          c(\"D\", \"T\", 5),\n",
        "          c(\"E\", \"T\", 7))\n",
        "colnames(E) = c(\"from\", \"to\", \"weight\")  # \"weight\" é o único nome que deve aparecer exatamente como escrito aqui. Weights serao as distancias no nosso caso.\n",
        "rede = data.frame(E)\n",
        "rede\n",
        "\n"
      ]
    },
    {
      "cell_type": "code",
      "execution_count": 11,
      "metadata": {
        "colab": {
          "base_uri": "https://localhost:8080/",
          "height": 437
        },
        "id": "S6JFmFGg7Z8x",
        "outputId": "205fa9c7-d5e6-47af-c2f2-c46eada6152e"
      },
      "outputs": [
        {
          "output_type": "display_data",
          "data": {
            "text/plain": [
              "Plot with title “”"
            ],
            "image/png": "[encoded data removed]"
          },
          "metadata": {
            "image/png": {
              "width": 420,
              "height": 420
            }
          }
        }
      ],
      "source": [
        "g = graph_from_data_frame(rede)\n",
        "plot(g)"
      ]
    },
    {
      "cell_type": "code",
      "execution_count": 12,
      "metadata": {
        "colab": {
          "base_uri": "https://localhost:8080/",
          "height": 72
        },
        "id": "AvaqaBmtqC8i",
        "outputId": "7766643f-a23e-4d1b-a1b4-ba5f6157c995"
      },
      "outputs": [
        {
          "output_type": "display_data",
          "data": {
            "text/plain": [
              "[[1]]\n",
              "+ 5/7 vertices, named, from 6ef3549:\n",
              "[1] O A B D T\n"
            ]
          },
          "metadata": {}
        }
      ],
      "source": [
        "resultados = get.shortest.paths(g, from = V(g)[\"O\"], to = V(g)[\"T\"])\n",
        "resultados$vpath"
      ]
    },
    {
      "cell_type": "code",
      "execution_count": 13,
      "metadata": {
        "colab": {
          "base_uri": "https://localhost:8080/",
          "height": 150
        },
        "id": "h_C-XpqHHoqP",
        "outputId": "a40a9d80-1421-4ef2-f471-382008d0829f"
      },
      "outputs": [
        {
          "output_type": "display_data",
          "data": {
            "text/html": [
              "<table class=\"dataframe\">\n",
              "<caption>A matrix: 1 × 1 of type dbl</caption>\n",
              "<thead>\n",
              "\t<tr><th></th><th scope=col>T</th></tr>\n",
              "</thead>\n",
              "<tbody>\n",
              "\t<tr><th scope=row>O</th><td>13</td></tr>\n",
              "</tbody>\n",
              "</table>\n"
            ],
            "text/markdown": "\nA matrix: 1 × 1 of type dbl\n\n| <!--/--> | T |\n|---|---|\n| O | 13 |\n\n",
            "text/latex": "A matrix: 1 × 1 of type dbl\n\\begin{tabular}{r|l}\n  & T\\\\\n\\hline\n\tO & 13\\\\\n\\end{tabular}\n",
            "text/plain": [
              "  T \n",
              "O 13"
            ]
          },
          "metadata": {}
        }
      ],
      "source": [
        "distances(g, v = V(g)[\"O\"], to = V(g)[\"T\"])"
      ]
    },
    {
      "cell_type": "code",
      "execution_count": 14,
      "metadata": {
        "colab": {
          "base_uri": "https://localhost:8080/",
          "height": 286
        },
        "id": "4XXu_MnIH3wL",
        "outputId": "1b094e25-0694-48e5-acd7-e8d93ccec438"
      },
      "outputs": [
        {
          "output_type": "display_data",
          "data": {
            "text/html": [
              "<table class=\"dataframe\">\n",
              "<caption>A matrix: 7 × 7 of type dbl</caption>\n",
              "<thead>\n",
              "\t<tr><th></th><th scope=col>O</th><th scope=col>A</th><th scope=col>B</th><th scope=col>C</th><th scope=col>D</th><th scope=col>E</th><th scope=col>T</th></tr>\n",
              "</thead>\n",
              "<tbody>\n",
              "\t<tr><th scope=row>O</th><td> 0</td><td> 2</td><td>4</td><td> 4</td><td>8</td><td>7</td><td>13</td></tr>\n",
              "\t<tr><th scope=row>A</th><td> 2</td><td> 0</td><td>2</td><td> 3</td><td>6</td><td>5</td><td>11</td></tr>\n",
              "\t<tr><th scope=row>B</th><td> 4</td><td> 2</td><td>0</td><td> 1</td><td>4</td><td>3</td><td> 9</td></tr>\n",
              "\t<tr><th scope=row>C</th><td> 4</td><td> 3</td><td>1</td><td> 0</td><td>5</td><td>4</td><td>10</td></tr>\n",
              "\t<tr><th scope=row>D</th><td> 8</td><td> 6</td><td>4</td><td> 5</td><td>0</td><td>7</td><td> 5</td></tr>\n",
              "\t<tr><th scope=row>E</th><td> 7</td><td> 5</td><td>3</td><td> 4</td><td>7</td><td>0</td><td> 7</td></tr>\n",
              "\t<tr><th scope=row>T</th><td>13</td><td>11</td><td>9</td><td>10</td><td>5</td><td>7</td><td> 0</td></tr>\n",
              "</tbody>\n",
              "</table>\n"
            ],
            "text/markdown": "\nA matrix: 7 × 7 of type dbl\n\n| <!--/--> | O | A | B | C | D | E | T |\n|---|---|---|---|---|---|---|---|\n| O |  0 |  2 | 4 |  4 | 8 | 7 | 13 |\n| A |  2 |  0 | 2 |  3 | 6 | 5 | 11 |\n| B |  4 |  2 | 0 |  1 | 4 | 3 |  9 |\n| C |  4 |  3 | 1 |  0 | 5 | 4 | 10 |\n| D |  8 |  6 | 4 |  5 | 0 | 7 |  5 |\n| E |  7 |  5 | 3 |  4 | 7 | 0 |  7 |\n| T | 13 | 11 | 9 | 10 | 5 | 7 |  0 |\n\n",
            "text/latex": "A matrix: 7 × 7 of type dbl\n\\begin{tabular}{r|lllllll}\n  & O & A & B & C & D & E & T\\\\\n\\hline\n\tO &  0 &  2 & 4 &  4 & 8 & 7 & 13\\\\\n\tA &  2 &  0 & 2 &  3 & 6 & 5 & 11\\\\\n\tB &  4 &  2 & 0 &  1 & 4 & 3 &  9\\\\\n\tC &  4 &  3 & 1 &  0 & 5 & 4 & 10\\\\\n\tD &  8 &  6 & 4 &  5 & 0 & 7 &  5\\\\\n\tE &  7 &  5 & 3 &  4 & 7 & 0 &  7\\\\\n\tT & 13 & 11 & 9 & 10 & 5 & 7 &  0\\\\\n\\end{tabular}\n",
            "text/plain": [
              "  O  A  B C  D E T \n",
              "O  0  2 4  4 8 7 13\n",
              "A  2  0 2  3 6 5 11\n",
              "B  4  2 0  1 4 3  9\n",
              "C  4  3 1  0 5 4 10\n",
              "D  8  6 4  5 0 7  5\n",
              "E  7  5 3  4 7 0  7\n",
              "T 13 11 9 10 5 7  0"
            ]
          },
          "metadata": {}
        }
      ],
      "source": [
        "distances(g)"
      ]
    },
    {
      "cell_type": "markdown",
      "metadata": {
        "id": "DYyRY5wIm7XC"
      },
      "source": [
        "## Outras aplicações\n",
        "\n",
        "O problema do caminho mais curto não se restringe apenas a caminhos mais curtos. Ele pode ser utilizado em diversas aplicações, como por exemplo:\n",
        "\n",
        "- Minimizar a **distância** total percorrida (como visto aqui).\n",
        "- Minimizar o **custo** total de uma sequência de atividades.\n",
        "- Minimizar o **tempo** total de uma sequência de atividades."
      ]
    }
  ],
  "metadata": {
    "colab": {
      "name": "Problema_Caminho_Mais_Curto.ipynb",
      "provenance": [],
      "authorship_tag": "ABX9TyMpQHkZg7KsYIqCH1NuN1SP",
      "include_colab_link": true
    },
    "kernelspec": {
      "display_name": "R",
      "name": "ir"
    },
    "language_info": {
      "name": "R"
    }
  },
  "nbformat": 4,
  "nbformat_minor": 0
}