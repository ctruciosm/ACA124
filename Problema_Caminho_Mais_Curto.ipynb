{
  "nbformat": 4,
  "nbformat_minor": 0,
  "metadata": {
    "colab": {
      "name": "Problema_Caminho_Mais_Curto.ipynb",
      "provenance": [],
      "authorship_tag": "ABX9TyMc1XZjj5c/cZJRhGo8xRXG",
      "include_colab_link": true
    },
    "kernelspec": {
      "name": "ir",
      "display_name": "R"
    },
    "language_info": {
      "name": "R"
    }
  },
  "cells": [
    {
      "cell_type": "markdown",
      "metadata": {
        "id": "view-in-github",
        "colab_type": "text"
      },
      "source": [
        "<a href=\"https://colab.research.google.com/github/ctruciosm/ACA124/blob/main/Problema_Caminho_Mais_Curto.ipynb\" target=\"_parent\"><img src=\"https://colab.research.google.com/assets/colab-badge.svg\" alt=\"Open In Colab\"/></a>"
      ]
    },
    {
      "cell_type": "markdown",
      "source": [
        "# Problema do Caminho mais Curto"
      ],
      "metadata": {
        "id": "PlAYvPt_DqWo"
      }
    },
    {
      "cell_type": "markdown",
      "source": [
        "- Considere uma rede conectada e não direcionada com um nó de origem e um nó escoadouro.\n",
        "- Considere também que os arcos representam a distância entre dois nós\n",
        "- O objetivo do **problema do caminho mais curto** (ou **problema do menor caminho**) é encontrar o caminho da origem até o escoadouro que tenha a menor distância."
      ],
      "metadata": {
        "id": "PDmcNj7PDuhY"
      }
    },
    {
      "cell_type": "markdown",
      "source": [
        "## Caso de estudo:\n",
        "\n",
        "O \"Mercado Free\" deve entregar uma grande quantidade de produtos na cidade de _Tangamandapio_ (cidade 6). O Deposito com todos os produtos necessários para envío esta localizado na cidade de _Huacho_ (cidade 1). \"Mercado Free\" quer saber qual o caminho que o caminhão deve fazer para minimizar a distância total percorrida. O mapa rodoviário da região junto com as distâncias é apresentado a seguir."
      ],
      "metadata": {
        "id": "Uf7_6Mvi71xa"
      }
    },
    {
      "cell_type": "markdown",
      "source": [
        "![](https://raw.githubusercontent.com/ctruciosm/ACA124/main/tangamandapio.png)"
      ],
      "metadata": {
        "id": "FcJAL6Re9U6B"
      }
    },
    {
      "cell_type": "markdown",
      "source": [
        "As variáveis de decisão serão $X_{ij}$ indicando o trecho da cidade $i$ para a cidade $j$. Se o valor for 1, significa que esse trecho deve ser percorrido, se for 0, significa que esse trecho não deve ser percorrido. Assim, o problema a ser resolvido pode ser escrito como:\n",
        "\n",
        "$$\\text{Min. } \\quad Z = 41 X_{12} + 44 X_{13} + 50X_{15} + 37 X_{24} + 27X_{35} + 45 X_{46} + 4X_{56},$$\n",
        "\n",
        "sujeito às restrições:\n",
        "\n",
        "- $X_{12} + X_{13} + X_{15} = 1,$\n  (nó 1)",
        "- $X_{12} - X_{24} = 0,$\n   (nó 2)",
        "- $X_{13} - X_{35} = 0,$\n   (nó 3)",
        "- $X_{24} - X_{46} = 0,$\n   (nó 4)",
        "- $X_{15} + X_{35} - X_{56} = 0,$\n   (nó 5)",
        "- $X_{46} + X_{56} = 1.   (nó 6)$"
      ],
      "metadata": {
        "id": "4KmicZgJAJh-"
      }
    },
    {
      "cell_type": "code",
      "source": [
        "C = c(41, 44, 50, 37, 27, 45, 4)\n",
        "b = c(1, 0, 0, 0, 1)\n",
        "A = matrix(c(1, 1, 1, 0, 0, 0, 0, \n",
        "             1, 0, 0, -1, 0, 0, 0, \n",
        "             0, 1, 0, 0, -1, 0, 0, \n",
        "             0, 0, 1, 0, 1, 0, -1, \n",
        "             0, 0, 0, 0, 0, 1, 1), ncol = 7, byrow = TRUE)\n",
        "A"
      ],
      "metadata": {
        "colab": {
          "base_uri": "https://localhost:8080/",
          "height": 191
        },
        "id": "iv988NyHD8dM",
        "outputId": "f91a7767-472e-4203-afae-50824d474b90"
      },
      "execution_count": 1,
      "outputs": [
        {
          "output_type": "display_data",
          "data": {
            "text/html": [
              "<table class=\"dataframe\">\n",
              "<caption>A matrix: 5 × 7 of type dbl</caption>\n",
              "<tbody>
